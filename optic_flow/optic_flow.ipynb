{
 "cells": [
  {
   "cell_type": "code",
   "execution_count": 26,
   "metadata": {},
   "outputs": [],
   "source": [
    "import numpy as np\n",
    "import cv2 as cv\n",
    "import pandas as pd\n",
    "import os"
   ]
  },
  {
   "cell_type": "code",
   "execution_count": 27,
   "metadata": {},
   "outputs": [],
   "source": [
    "pathCsvOptic = '/Users/nathansadoun/Desktop/INSA/ML/Video_classification/MediaEval_ClassificationTask/dataSetOptic'"
   ]
  },
  {
   "cell_type": "code",
   "execution_count": 28,
   "metadata": {},
   "outputs": [],
   "source": [
    "def analyseOptic(video_path, pathCsv):\n",
    "    \n",
    "    cap = cv.VideoCapture(video_path)\n",
    "\n",
    "    # params for ShiTomasi corner detection\n",
    "    feature_params = dict( maxCorners = 100,\n",
    "                        qualityLevel = 0.3,\n",
    "                        minDistance = 7,\n",
    "                        blockSize = 7 )\n",
    "\n",
    "    # Parameters for lucas kanade optical flow\n",
    "    lk_params = dict( winSize  = (15, 15),\n",
    "                    maxLevel = 2,\n",
    "                    criteria = (cv.TERM_CRITERIA_EPS | cv.TERM_CRITERIA_COUNT, 10, 0.03))\n",
    "\n",
    "    # Create some random colors\n",
    "    color = np.random.randint(0, 255, (100, 3))\n",
    "\n",
    "    # Take first frame and find corners in it\n",
    "    ret, old_frame = cap.read()\n",
    "    old_gray = cv.cvtColor(old_frame, cv.COLOR_BGR2GRAY)\n",
    "    p0 = cv.goodFeaturesToTrack(old_gray, mask = None, **feature_params)\n",
    "\n",
    "    # Create a mask image for drawing purposes\n",
    "    mask = np.zeros_like(old_frame)\n",
    "\n",
    "    listeFlow = []\n",
    "\n",
    "    while(1):\n",
    "        ret, frame = cap.read()\n",
    "        if not ret:\n",
    "            print('No frames grabbed!')\n",
    "            break\n",
    "\n",
    "        frame_gray = cv.cvtColor(frame, cv.COLOR_BGR2GRAY)\n",
    "\n",
    "        # calculate optical flow\n",
    "        p1, st, err = cv.calcOpticalFlowPyrLK(old_gray, frame_gray, p0, None, **lk_params)\n",
    "        listeFlow.append(p1)\n",
    "\n",
    "        # Select good points\n",
    "        if p1 is not None:\n",
    "            good_new = p1[st==1]\n",
    "            good_old = p0[st==1]\n",
    "\n",
    "        # Now update the previous frame and previous points\n",
    "        old_gray = frame_gray.copy()\n",
    "        p0 = good_new.reshape(-1, 1, 2)\n",
    "\n",
    "    df = pd.DataFrame(listeFlow)\n",
    "    # header = [\"box_conf\", \"box_x\", \"box_y\", \"box_w\", \"box_h\", \"box_x_n\", \"box_y_n\", \"box_w_n\", \"box_h_n\",\n",
    "    #             \"1_x\", \"1_y\", \"1_conf\", \"1_x_n\", \"1_y_n\",\n",
    "    #             \"2_x\", \"2_y\", \"2_conf\", \"2_x_n\", \"2_y_n\",\n",
    "    #             \"3_x\", \"3_y\", \"3_conf\", \"3_x_n\", \"3_y_n\",\n",
    "    #             \"4_x\", \"4_y\", \"4_conf\", \"4_x_n\", \"4_y_n\",\n",
    "    #             \"5_x\", \"5_y\", \"5_conf\", \"5_x_n\", \"5_y_n\",\n",
    "    #             \"6_x\", \"6_y\", \"6_conf\", \"6_x_n\", \"6_y_n\",\n",
    "    #             \"7_x\", \"7_y\", \"7_conf\", \"7_x_n\", \"7_y_n\",\n",
    "    #             \"8_x\", \"8_y\", \"8_conf\", \"8_x_n\", \"8_y_n\",\n",
    "    #             \"9_x\", \"9_y\", \"9_conf\", \"9x_n\", \"9_y_n\",\n",
    "    #             \"10_x\", \"10_y\", \"10_conf\", \"10_x_n\", \"10_y_n\",\n",
    "    #             \"11_x\", \"11_y\", \"11_conf\", \"11_x_n\", \"11_y_n\",\n",
    "    #             \"12_x\", \"12_y\", \"12_conf\", \"12_x_n\", \"12_y_n\",\n",
    "    #             \"13_x\", \"13_y\", \"13_conf\", \"13_x_n\", \"13_y_n\",\n",
    "    #             \"14_x\", \"14_y\", \"14_conf\", \"14_x_n\", \"14_y_n\",\n",
    "    #             \"15_x\", \"15_y\", \"15_conf\", \"15_x_n\", \"15_y_n\",\n",
    "    #             \"16_x\", \"16_y\", \"16_conf\", \"16_x_n\", \"16_y_n\",\n",
    "    #             \"17_x\", \"17_y\", \"17_conf\", \"17_x_n\", \"17_y_n\",\n",
    "    #         ]\n",
    "    # df = df.set_axis(header,axis=1) # adding headers to the dataframe\n",
    "    df.to_csv(pathCsv, sep=';', decimal='.', index=False) # store keypoint csv\n",
    "\n",
    "    # Release the video capture object and close the display window\n",
    "    cap.release()"
   ]
  },
  {
   "cell_type": "code",
   "execution_count": 29,
   "metadata": {},
   "outputs": [],
   "source": [
    "def analyseOptic_dataset(pathToData: str, pathToOutput: str):\n",
    "    listeErreur = []\n",
    "\n",
    "    for folder in sorted(os.listdir(pathToData)):\n",
    "        if (not folder.startswith(\".\")) and os.path.isdir(os.path.join(pathToData, folder)):\n",
    "            if folder != \"test\":\n",
    "                pathToCSVFolder = os.path.join(pathToOutput, folder) # create a CSV folder for train and validation datasets\n",
    "                if not os.path.exists(pathToCSVFolder):\n",
    "                    os.mkdir(pathToCSVFolder)\n",
    "                pathToFolder = os.path.join(pathToData, folder)\n",
    "                for subFolder in sorted(os.listdir(pathToFolder)): \n",
    "                    if not subFolder.startswith(\".\") and os.path.isdir(os.path.join(pathToFolder, subFolder)):\n",
    "                        pathToCSVSubFolder = os.path.join(pathToCSVFolder, subFolder) # create a CSV folder for each class of strokes\n",
    "                        if not os.path.exists(pathToCSVSubFolder):\n",
    "                            os.mkdir(pathToCSVSubFolder)\n",
    "                        pathToSubFolder = os.path.join(pathToFolder, subFolder)\n",
    "                        for file in sorted(os.listdir(pathToSubFolder)):\n",
    "                            if (not file.startswith(\".\")) and (file.endswith(\".mp4\")):\n",
    "                                pathToFile = os.path.join(pathToSubFolder, file)\n",
    "                                CSVFileName = file[:len(file) - 4]\n",
    "                                pathToCSV = os.path.join(pathToCSVSubFolder, CSVFileName+\".csv\")\n",
    "                                if not os.path.exists(pathToCSV):\n",
    "                                    print(pathToFile)\n",
    "                                    try:\n",
    "                                        analyseOptic(pathToFile, pathToCSV)\n",
    "                                    except:\n",
    "                                        print(\"Erreur fichier: \"+pathToFile)\n",
    "                                        listeErreur.append(pathToFile)\n",
    "    return listeErreur"
   ]
  },
  {
   "cell_type": "code",
   "execution_count": 30,
   "metadata": {},
   "outputs": [
    {
     "name": "stdout",
     "output_type": "stream",
     "text": [
      "No frames grabbed!\n"
     ]
    },
    {
     "ename": "ValueError",
     "evalue": "setting an array element with a sequence. The requested array has an inhomogeneous shape after 1 dimensions. The detected shape was (218,) + inhomogeneous part.",
     "output_type": "error",
     "traceback": [
      "\u001b[0;31m---------------------------------------------------------------------------\u001b[0m",
      "\u001b[0;31mValueError\u001b[0m                                Traceback (most recent call last)",
      "\u001b[1;32m/Users/nathansadoun/Desktop/INSA/ML/Video_classification/MediaEval_ClassificationTask/optic_flow.ipynb Cellule 5\u001b[0m line \u001b[0;36m1\n\u001b[0;32m----> <a href='vscode-notebook-cell:/Users/nathansadoun/Desktop/INSA/ML/Video_classification/MediaEval_ClassificationTask/optic_flow.ipynb#X23sZmlsZQ%3D%3D?line=0'>1</a>\u001b[0m analyseOptic(\u001b[39m'\u001b[39;49m\u001b[39m/Users/nathansadoun/Desktop/INSA/ML/Video_classification/MediaEval_ClassificationTask/videoTest.mp4\u001b[39;49m\u001b[39m'\u001b[39;49m, \u001b[39m'\u001b[39;49m\u001b[39m/Users/nathansadoun/Desktop/INSA/ML/Video_classification/MediaEval_ClassificationTask/videoTest.csv\u001b[39;49m\u001b[39m'\u001b[39;49m)\n",
      "\u001b[1;32m/Users/nathansadoun/Desktop/INSA/ML/Video_classification/MediaEval_ClassificationTask/optic_flow.ipynb Cellule 5\u001b[0m line \u001b[0;36m5\n\u001b[1;32m     <a href='vscode-notebook-cell:/Users/nathansadoun/Desktop/INSA/ML/Video_classification/MediaEval_ClassificationTask/optic_flow.ipynb#X23sZmlsZQ%3D%3D?line=46'>47</a>\u001b[0m     old_gray \u001b[39m=\u001b[39m frame_gray\u001b[39m.\u001b[39mcopy()\n\u001b[1;32m     <a href='vscode-notebook-cell:/Users/nathansadoun/Desktop/INSA/ML/Video_classification/MediaEval_ClassificationTask/optic_flow.ipynb#X23sZmlsZQ%3D%3D?line=47'>48</a>\u001b[0m     p0 \u001b[39m=\u001b[39m good_new\u001b[39m.\u001b[39mreshape(\u001b[39m-\u001b[39m\u001b[39m1\u001b[39m, \u001b[39m1\u001b[39m, \u001b[39m2\u001b[39m)\n\u001b[0;32m---> <a href='vscode-notebook-cell:/Users/nathansadoun/Desktop/INSA/ML/Video_classification/MediaEval_ClassificationTask/optic_flow.ipynb#X23sZmlsZQ%3D%3D?line=49'>50</a>\u001b[0m df \u001b[39m=\u001b[39m pd\u001b[39m.\u001b[39;49mDataFrame(listeFlow)\n\u001b[1;32m     <a href='vscode-notebook-cell:/Users/nathansadoun/Desktop/INSA/ML/Video_classification/MediaEval_ClassificationTask/optic_flow.ipynb#X23sZmlsZQ%3D%3D?line=50'>51</a>\u001b[0m \u001b[39m# header = [\"box_conf\", \"box_x\", \"box_y\", \"box_w\", \"box_h\", \"box_x_n\", \"box_y_n\", \"box_w_n\", \"box_h_n\",\u001b[39;00m\n\u001b[1;32m     <a href='vscode-notebook-cell:/Users/nathansadoun/Desktop/INSA/ML/Video_classification/MediaEval_ClassificationTask/optic_flow.ipynb#X23sZmlsZQ%3D%3D?line=51'>52</a>\u001b[0m \u001b[39m#             \"1_x\", \"1_y\", \"1_conf\", \"1_x_n\", \"1_y_n\",\u001b[39;00m\n\u001b[1;32m     <a href='vscode-notebook-cell:/Users/nathansadoun/Desktop/INSA/ML/Video_classification/MediaEval_ClassificationTask/optic_flow.ipynb#X23sZmlsZQ%3D%3D?line=52'>53</a>\u001b[0m \u001b[39m#             \"2_x\", \"2_y\", \"2_conf\", \"2_x_n\", \"2_y_n\",\u001b[39;00m\n\u001b[0;32m   (...)\u001b[0m\n\u001b[1;32m     <a href='vscode-notebook-cell:/Users/nathansadoun/Desktop/INSA/ML/Video_classification/MediaEval_ClassificationTask/optic_flow.ipynb#X23sZmlsZQ%3D%3D?line=68'>69</a>\u001b[0m \u001b[39m#         ]\u001b[39;00m\n\u001b[1;32m     <a href='vscode-notebook-cell:/Users/nathansadoun/Desktop/INSA/ML/Video_classification/MediaEval_ClassificationTask/optic_flow.ipynb#X23sZmlsZQ%3D%3D?line=69'>70</a>\u001b[0m \u001b[39m# df = df.set_axis(header,axis=1) # adding headers to the dataframe\u001b[39;00m\n\u001b[1;32m     <a href='vscode-notebook-cell:/Users/nathansadoun/Desktop/INSA/ML/Video_classification/MediaEval_ClassificationTask/optic_flow.ipynb#X23sZmlsZQ%3D%3D?line=70'>71</a>\u001b[0m df\u001b[39m.\u001b[39mto_csv(pathCsv, sep\u001b[39m=\u001b[39m\u001b[39m'\u001b[39m\u001b[39m;\u001b[39m\u001b[39m'\u001b[39m, decimal\u001b[39m=\u001b[39m\u001b[39m'\u001b[39m\u001b[39m.\u001b[39m\u001b[39m'\u001b[39m, index\u001b[39m=\u001b[39m\u001b[39mFalse\u001b[39;00m) \u001b[39m# store keypoint csv\u001b[39;00m\n",
      "File \u001b[0;32m/Library/Frameworks/Python.framework/Versions/3.11/lib/python3.11/site-packages/pandas/core/frame.py:798\u001b[0m, in \u001b[0;36mDataFrame.__init__\u001b[0;34m(self, data, index, columns, dtype, copy)\u001b[0m\n\u001b[1;32m    790\u001b[0m         mgr \u001b[39m=\u001b[39m arrays_to_mgr(\n\u001b[1;32m    791\u001b[0m             arrays,\n\u001b[1;32m    792\u001b[0m             columns,\n\u001b[0;32m   (...)\u001b[0m\n\u001b[1;32m    795\u001b[0m             typ\u001b[39m=\u001b[39mmanager,\n\u001b[1;32m    796\u001b[0m         )\n\u001b[1;32m    797\u001b[0m     \u001b[39melse\u001b[39;00m:\n\u001b[0;32m--> 798\u001b[0m         mgr \u001b[39m=\u001b[39m ndarray_to_mgr(\n\u001b[1;32m    799\u001b[0m             data,\n\u001b[1;32m    800\u001b[0m             index,\n\u001b[1;32m    801\u001b[0m             columns,\n\u001b[1;32m    802\u001b[0m             dtype\u001b[39m=\u001b[39;49mdtype,\n\u001b[1;32m    803\u001b[0m             copy\u001b[39m=\u001b[39;49mcopy,\n\u001b[1;32m    804\u001b[0m             typ\u001b[39m=\u001b[39;49mmanager,\n\u001b[1;32m    805\u001b[0m         )\n\u001b[1;32m    806\u001b[0m \u001b[39melse\u001b[39;00m:\n\u001b[1;32m    807\u001b[0m     mgr \u001b[39m=\u001b[39m dict_to_mgr(\n\u001b[1;32m    808\u001b[0m         {},\n\u001b[1;32m    809\u001b[0m         index,\n\u001b[0;32m   (...)\u001b[0m\n\u001b[1;32m    812\u001b[0m         typ\u001b[39m=\u001b[39mmanager,\n\u001b[1;32m    813\u001b[0m     )\n",
      "File \u001b[0;32m/Library/Frameworks/Python.framework/Versions/3.11/lib/python3.11/site-packages/pandas/core/internals/construction.py:320\u001b[0m, in \u001b[0;36mndarray_to_mgr\u001b[0;34m(values, index, columns, dtype, copy, typ)\u001b[0m\n\u001b[1;32m    315\u001b[0m     values \u001b[39m=\u001b[39m _ensure_2d(values)\n\u001b[1;32m    317\u001b[0m \u001b[39melse\u001b[39;00m:\n\u001b[1;32m    318\u001b[0m     \u001b[39m# by definition an array here\u001b[39;00m\n\u001b[1;32m    319\u001b[0m     \u001b[39m# the dtypes will be coerced to a single dtype\u001b[39;00m\n\u001b[0;32m--> 320\u001b[0m     values \u001b[39m=\u001b[39m _prep_ndarraylike(values, copy\u001b[39m=\u001b[39;49mcopy_on_sanitize)\n\u001b[1;32m    322\u001b[0m \u001b[39mif\u001b[39;00m dtype \u001b[39mis\u001b[39;00m \u001b[39mnot\u001b[39;00m \u001b[39mNone\u001b[39;00m \u001b[39mand\u001b[39;00m \u001b[39mnot\u001b[39;00m is_dtype_equal(values\u001b[39m.\u001b[39mdtype, dtype):\n\u001b[1;32m    323\u001b[0m     \u001b[39m# GH#40110 see similar check inside sanitize_array\u001b[39;00m\n\u001b[1;32m    324\u001b[0m     values \u001b[39m=\u001b[39m sanitize_array(\n\u001b[1;32m    325\u001b[0m         values,\n\u001b[1;32m    326\u001b[0m         \u001b[39mNone\u001b[39;00m,\n\u001b[0;32m   (...)\u001b[0m\n\u001b[1;32m    329\u001b[0m         allow_2d\u001b[39m=\u001b[39m\u001b[39mTrue\u001b[39;00m,\n\u001b[1;32m    330\u001b[0m     )\n",
      "File \u001b[0;32m/Library/Frameworks/Python.framework/Versions/3.11/lib/python3.11/site-packages/pandas/core/internals/construction.py:553\u001b[0m, in \u001b[0;36m_prep_ndarraylike\u001b[0;34m(values, copy)\u001b[0m\n\u001b[1;32m    547\u001b[0m \u001b[39m# we could have a 1-dim or 2-dim list here\u001b[39;00m\n\u001b[1;32m    548\u001b[0m \u001b[39m# this is equiv of np.asarray, but does object conversion\u001b[39;00m\n\u001b[1;32m    549\u001b[0m \u001b[39m# and platform dtype preservation\u001b[39;00m\n\u001b[1;32m    550\u001b[0m \u001b[39m# does not convert e.g. [1, \"a\", True] to [\"1\", \"a\", \"True\"] like\u001b[39;00m\n\u001b[1;32m    551\u001b[0m \u001b[39m#  np.asarray would\u001b[39;00m\n\u001b[1;32m    552\u001b[0m \u001b[39mif\u001b[39;00m is_list_like(values[\u001b[39m0\u001b[39m]):\n\u001b[0;32m--> 553\u001b[0m     values \u001b[39m=\u001b[39m np\u001b[39m.\u001b[39;49marray([convert(v) \u001b[39mfor\u001b[39;49;00m v \u001b[39min\u001b[39;49;00m values])\n\u001b[1;32m    554\u001b[0m \u001b[39melif\u001b[39;00m \u001b[39misinstance\u001b[39m(values[\u001b[39m0\u001b[39m], np\u001b[39m.\u001b[39mndarray) \u001b[39mand\u001b[39;00m values[\u001b[39m0\u001b[39m]\u001b[39m.\u001b[39mndim \u001b[39m==\u001b[39m \u001b[39m0\u001b[39m:\n\u001b[1;32m    555\u001b[0m     \u001b[39m# GH#21861 see test_constructor_list_of_lists\u001b[39;00m\n\u001b[1;32m    556\u001b[0m     values \u001b[39m=\u001b[39m np\u001b[39m.\u001b[39marray([convert(v) \u001b[39mfor\u001b[39;00m v \u001b[39min\u001b[39;00m values])\n",
      "\u001b[0;31mValueError\u001b[0m: setting an array element with a sequence. The requested array has an inhomogeneous shape after 1 dimensions. The detected shape was (218,) + inhomogeneous part."
     ]
    },
    {
     "ename": "",
     "evalue": "",
     "output_type": "error",
     "traceback": [
      "\u001b[1;31mLe Kernel s’est bloqué lors de l’exécution du code dans la cellule active ou une cellule précédente. Veuillez vérifier le code dans la ou les cellules pour identifier une cause possible de l’échec. Cliquez <a href='https://aka.ms/vscodeJupyterKernelCrash'>ici</a> pour plus d’informations. Pour plus d’informations, consultez Jupyter <a href='command:jupyter.viewOutput'>log</a>."
     ]
    }
   ],
   "source": [
    "analyseOptic('/Users/nathansadoun/Desktop/INSA/ML/Video_classification/MediaEval_ClassificationTask/videoTest.mp4', '/Users/nathansadoun/Desktop/INSA/ML/Video_classification/MediaEval_ClassificationTask/videoTest.csv')"
   ]
  }
 ],
 "metadata": {
  "kernelspec": {
   "display_name": "Python 3",
   "language": "python",
   "name": "python3"
  },
  "language_info": {
   "codemirror_mode": {
    "name": "ipython",
    "version": 3
   },
   "file_extension": ".py",
   "mimetype": "text/x-python",
   "name": "python",
   "nbconvert_exporter": "python",
   "pygments_lexer": "ipython3",
   "version": "3.11.3"
  }
 },
 "nbformat": 4,
 "nbformat_minor": 2
}
