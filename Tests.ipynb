{
 "cells": [
  {
   "cell_type": "code",
   "execution_count": 3,
   "metadata": {},
   "outputs": [],
   "source": [
    "import cv2\n",
    "from PIL import Image\n",
    "from pydantic import BaseModel\n",
    "import numpy as np\n",
    "import pandas as pd\n",
    "import os\n",
    "\n",
    "import ultralytics"
   ]
  },
  {
   "cell_type": "code",
   "execution_count": 4,
   "metadata": {},
   "outputs": [
    {
     "data": {
      "text/plain": [
       "True"
      ]
     },
     "execution_count": 4,
     "metadata": {},
     "output_type": "execute_result"
    }
   ],
   "source": [
    "import torch\n",
    "torch.cuda.is_available()"
   ]
  },
  {
   "cell_type": "code",
   "execution_count": 5,
   "metadata": {},
   "outputs": [],
   "source": [
    "model = ultralytics.YOLO(model='yolov8m-pose.pt')"
   ]
  },
  {
   "cell_type": "code",
   "execution_count": 5,
   "metadata": {},
   "outputs": [
    {
     "name": "stderr",
     "output_type": "stream",
     "text": [
      "\n",
      "image 1/1 D:\\INSA\\5IF\\MediaEval_ClassificationTask\\photoTest.JPG: 640x448 1 person, 56.0ms\n",
      "Speed: 3.0ms preprocess, 56.0ms inference, 3.0ms postprocess per image at shape (1, 3, 640, 448)\n",
      "Results saved to \u001b[1mruns\\pose\\predict8\u001b[0m\n"
     ]
    }
   ],
   "source": [
    "results = model(\"D:\\INSA/5IF\\MediaEval_ClassificationTask\\photoTest.JPG\", save=True, device=0)"
   ]
  },
  {
   "cell_type": "code",
   "execution_count": null,
   "metadata": {},
   "outputs": [],
   "source": [
    "np.concatenate((results[0].keypoints.numpy().data, results[0].keypoints.numpy().xyn), axis=2)"
   ]
  },
  {
   "cell_type": "code",
   "execution_count": null,
   "metadata": {},
   "outputs": [],
   "source": [
    "keypoints = results[0].keypoints.numpy()\n",
    "print(keypoints)"
   ]
  },
  {
   "cell_type": "code",
   "execution_count": null,
   "metadata": {},
   "outputs": [],
   "source": [
    "keypoints.conf[0].T"
   ]
  },
  {
   "cell_type": "code",
   "execution_count": null,
   "metadata": {},
   "outputs": [],
   "source": [
    "keyptsTotal = np.concatenate((keypoints.data, keypoints.xyn), axis=2)\n",
    "print(keyptsTotal[0])"
   ]
  },
  {
   "cell_type": "code",
   "execution_count": null,
   "metadata": {},
   "outputs": [],
   "source": [
    "kptsLine = np.reshape(keyptsTotal, (1,np.product(keyptsTotal.shape)))\n",
    "print(kptsLine)"
   ]
  },
  {
   "cell_type": "code",
   "execution_count": null,
   "metadata": {},
   "outputs": [],
   "source": [
    "boxe = results[0].boxes.numpy()\n",
    "print(boxe)"
   ]
  },
  {
   "cell_type": "code",
   "execution_count": null,
   "metadata": {},
   "outputs": [],
   "source": [
    "np.concatenate((results[0].boxes.numpy().conf, results[0].boxes.numpy().xywh[0], results[0].boxes.numpy().xywhn[0]), axis=0)"
   ]
  },
  {
   "cell_type": "code",
   "execution_count": null,
   "metadata": {},
   "outputs": [],
   "source": [
    "boxeTotal = np.concatenate((boxe.conf, boxe.xywh[0], boxe.xywhn[0]), axis=0)\n",
    "print(boxeTotal)"
   ]
  },
  {
   "cell_type": "code",
   "execution_count": null,
   "metadata": {},
   "outputs": [],
   "source": [
    "total = np.concatenate((boxeTotal, kptsLine[0]), axis=0)"
   ]
  },
  {
   "cell_type": "code",
   "execution_count": null,
   "metadata": {},
   "outputs": [],
   "source": [
    "print(total)"
   ]
  },
  {
   "cell_type": "code",
   "execution_count": null,
   "metadata": {},
   "outputs": [],
   "source": [
    "liste = [total, total]\n",
    "print(liste)"
   ]
  },
  {
   "cell_type": "code",
   "execution_count": null,
   "metadata": {},
   "outputs": [],
   "source": [
    "df = pd.DataFrame(liste)\n",
    "print(df)"
   ]
  },
  {
   "cell_type": "code",
   "execution_count": null,
   "metadata": {},
   "outputs": [],
   "source": [
    "\n",
    "header = [\"box_conf\", \"box_x\", \"box_y\", \"box_w\", \"box_h\", \"box_x_n\", \"box_y_n\", \"box_w_n\", \"box_h_n\",\n",
    "            \"1_x\", \"1_y\", \"1_conf\", \"1_x_n\", \"1_y_n\",\n",
    "            \"2_x\", \"2_y\", \"2_conf\", \"2_x_n\", \"2_y_n\",\n",
    "            \"3_x\", \"3_y\", \"3_conf\", \"3_x_n\", \"3_y_n\",\n",
    "            \"4_x\", \"4_y\", \"4_conf\", \"4_x_n\", \"4_y_n\",\n",
    "            \"5_x\", \"5_y\", \"5_conf\", \"5_x_n\", \"5_y_n\",\n",
    "            \"6_x\", \"6_y\", \"6_conf\", \"6_x_n\", \"6_y_n\",\n",
    "            \"7_x\", \"7_y\", \"7_conf\", \"7_x_n\", \"7_y_n\",\n",
    "            \"8_x\", \"8_y\", \"8_conf\", \"8_x_n\", \"8_y_n\",\n",
    "            \"9_x\", \"9_y\", \"9_conf\", \"9x_n\", \"9_y_n\",\n",
    "            \"10_x\", \"10_y\", \"10_conf\", \"10_x_n\", \"10_y_n\",\n",
    "            \"11_x\", \"11_y\", \"11_conf\", \"11_x_n\", \"11_y_n\",\n",
    "            \"12_x\", \"12_y\", \"12_conf\", \"12_x_n\", \"12_y_n\",\n",
    "            \"13_x\", \"13_y\", \"13_conf\", \"13_x_n\", \"13_y_n\",\n",
    "            \"14_x\", \"14_y\", \"14_conf\", \"14_x_n\", \"14_y_n\",\n",
    "            \"15_x\", \"15_y\", \"15_conf\", \"15_x_n\", \"15_y_n\",\n",
    "            \"16_x\", \"16_y\", \"16_conf\", \"16_x_n\", \"16_y_n\",\n",
    "            \"17_x\", \"17_y\", \"17_conf\", \"17_x_n\", \"17_y_n\",\n",
    "        ]\n",
    "df = df.set_axis(header,axis=1) # adding headers to the dataframe\n",
    "df.to_csv(\"D:\\INSA/5IF\\MediaEval_ClassificationTask\\photoTest.csv\", sep=';', decimal='.', index=False) # store keypoint csv\n"
   ]
  },
  {
   "cell_type": "code",
   "execution_count": null,
   "metadata": {},
   "outputs": [],
   "source": [
    "print(df)"
   ]
  },
  {
   "cell_type": "code",
   "execution_count": null,
   "metadata": {},
   "outputs": [],
   "source": [
    "results2 = model(\"D:\\INSA/5IF\\MediaEval_ClassificationTask\\photoTest2Boxes.jpeg\", save=True)\n",
    "boxe = results2[0].boxes.numpy()\n",
    "print(boxe)"
   ]
  },
  {
   "cell_type": "code",
   "execution_count": 9,
   "metadata": {},
   "outputs": [],
   "source": [
    "def analyse(video_path, csv_path):\n",
    "    # Open the video file\n",
    "    #video_path = \"D:\\INSA/5IF\\MediaEval_ClassificationTask/videoTest.mp4\"\n",
    "    cap = cv2.VideoCapture(video_path)\n",
    "\n",
    "    results = []\n",
    "    # Loop through the video frames\n",
    "    while cap.isOpened():\n",
    "        # Read a frame from the video\n",
    "        success, frame = cap.read()\n",
    "\n",
    "        if success:\n",
    "            # Run YOLOv8 inference on the frame\n",
    "            result = model(frame)\n",
    "\n",
    "            # Save relevent data\n",
    "            kpts = np.concatenate((result[0].keypoints.numpy()[0].data, result[0].keypoints.numpy()[0].xyn), axis=2)\n",
    "            kpts = np.reshape(kpts, (1, np.product(kpts.shape)))\n",
    "            boxe = np.concatenate((result[0].boxes.numpy()[0].conf, result[0].boxes.numpy()[0].xywh[0], result[0].boxes.numpy()[0].xywhn[0]), axis=0)\n",
    "            total = np.concatenate((boxe, kpts[0]), axis=0)\n",
    "\n",
    "            results.append(total)\n",
    "\n",
    "            # Break the loop if 'q' is pressed\n",
    "            if cv2.waitKey(1) & 0xFF == ord(\"q\"):\n",
    "                break\n",
    "        else:\n",
    "            # Break the loop if the end of the video is reached\n",
    "            break\n",
    "\n",
    "    df = pd.DataFrame(results)\n",
    "    header = [\"box_conf\", \"box_x\", \"box_y\", \"box_w\", \"box_h\", \"box_x_n\", \"box_y_n\", \"box_w_n\", \"box_h_n\",\n",
    "                \"1_x\", \"1_y\", \"1_conf\", \"1_x_n\", \"1_y_n\",\n",
    "                \"2_x\", \"2_y\", \"2_conf\", \"2_x_n\", \"2_y_n\",\n",
    "                \"3_x\", \"3_y\", \"3_conf\", \"3_x_n\", \"3_y_n\",\n",
    "                \"4_x\", \"4_y\", \"4_conf\", \"4_x_n\", \"4_y_n\",\n",
    "                \"5_x\", \"5_y\", \"5_conf\", \"5_x_n\", \"5_y_n\",\n",
    "                \"6_x\", \"6_y\", \"6_conf\", \"6_x_n\", \"6_y_n\",\n",
    "                \"7_x\", \"7_y\", \"7_conf\", \"7_x_n\", \"7_y_n\",\n",
    "                \"8_x\", \"8_y\", \"8_conf\", \"8_x_n\", \"8_y_n\",\n",
    "                \"9_x\", \"9_y\", \"9_conf\", \"9x_n\", \"9_y_n\",\n",
    "                \"10_x\", \"10_y\", \"10_conf\", \"10_x_n\", \"10_y_n\",\n",
    "                \"11_x\", \"11_y\", \"11_conf\", \"11_x_n\", \"11_y_n\",\n",
    "                \"12_x\", \"12_y\", \"12_conf\", \"12_x_n\", \"12_y_n\",\n",
    "                \"13_x\", \"13_y\", \"13_conf\", \"13_x_n\", \"13_y_n\",\n",
    "                \"14_x\", \"14_y\", \"14_conf\", \"14_x_n\", \"14_y_n\",\n",
    "                \"15_x\", \"15_y\", \"15_conf\", \"15_x_n\", \"15_y_n\",\n",
    "                \"16_x\", \"16_y\", \"16_conf\", \"16_x_n\", \"16_y_n\",\n",
    "                \"17_x\", \"17_y\", \"17_conf\", \"17_x_n\", \"17_y_n\",\n",
    "            ]\n",
    "    df = df.set_axis(header,axis=1) # adding headers to the dataframe\n",
    "    df.to_csv(csv_path, sep=';', decimal='.', index=False) # store keypoint csv\n",
    "\n",
    "    # Release the video capture object and close the display window\n",
    "    cap.release()\n",
    "    cv2.destroyAllWindows()"
   ]
  },
  {
   "cell_type": "code",
   "execution_count": null,
   "metadata": {},
   "outputs": [],
   "source": [
    "folder = \"test\"\n",
    "folder != \"test\""
   ]
  },
  {
   "cell_type": "code",
   "execution_count": 10,
   "metadata": {},
   "outputs": [],
   "source": [
    "def analyseDataset(pathToData, pathToOutput):\n",
    "    listeErreur = []\n",
    "\n",
    "    for folder in sorted(os.listdir(pathToData)):\n",
    "        if (not folder.startswith(\".\")) and os.path.isdir(os.path.join(pathToData, folder)):\n",
    "            if folder != \"test\":\n",
    "                pathToCSVFolder = os.path.join(pathToOutput, folder) # create a CSV folder for train and validation datasets\n",
    "                if not os.path.exists(pathToCSVFolder):\n",
    "                    os.mkdir(pathToCSVFolder)\n",
    "                pathToFolder = os.path.join(pathToData, folder)\n",
    "                for subFolder in sorted(os.listdir(pathToFolder)): \n",
    "                    if not subFolder.startswith(\".\"):\n",
    "                        pathToCSVSubFolder = os.path.join(pathToCSVFolder, subFolder) # create a CSV folder for each class of strokes\n",
    "                        if not os.path.exists(pathToCSVSubFolder):\n",
    "                            os.mkdir(pathToCSVSubFolder)\n",
    "                        pathToSubFolder = os.path.join(pathToFolder, subFolder)\n",
    "                        for file in sorted(os.listdir(pathToSubFolder)):\n",
    "                            if (not file.startswith(\".\")) and (file.endswith(\".mp4\")):\n",
    "                                pathToFile = os.path.join(pathToSubFolder, file)\n",
    "                                CSVFileName = file[:len(file) - 4]\n",
    "                                pathToCSV = os.path.join(pathToCSVSubFolder, CSVFileName+\".csv\")\n",
    "                                if not os.path.exists(pathToCSV):\n",
    "                                    print(pathToFile)\n",
    "                                    try:\n",
    "                                        analyse(pathToFile, pathToCSV)\n",
    "                                    except:\n",
    "                                        print(\"Erreur fichier: \"+pathToFile)\n",
    "                                        listeErreur.append(pathToFile)\n",
    "    return listeErreur\n",
    "\n"
   ]
  },
  {
   "cell_type": "code",
   "execution_count": null,
   "metadata": {},
   "outputs": [],
   "source": [
    "analyse(\"D:\\INSA/5IF\\MediaEval_ClassificationTask/testsVideos/testTrain/frontAtta/397579639.mp4\", \"D:\\INSA/5IF\\MediaEval_ClassificationTask/testCSV/test.csv\")"
   ]
  },
  {
   "cell_type": "code",
   "execution_count": 11,
   "metadata": {},
   "outputs": [
    {
     "name": "stderr",
     "output_type": "stream",
     "text": [
      "\n"
     ]
    },
    {
     "name": "stdout",
     "output_type": "stream",
     "text": [
      "D:\\INSA/5IF\\MediaEval_ClassificationTask\\data\\classificationTask\\train\\Negative\\276763674.mp4\n"
     ]
    },
    {
     "name": "stderr",
     "output_type": "stream",
     "text": [
      "0: 384x640 1 person, 236.6ms\n",
      "Speed: 5.0ms preprocess, 236.6ms inference, 6.0ms postprocess per image at shape (1, 3, 384, 640)\n",
      "\n",
      "0: 384x640 1 person, 48.5ms\n",
      "Speed: 3.0ms preprocess, 48.5ms inference, 4.0ms postprocess per image at shape (1, 3, 384, 640)\n",
      "\n",
      "0: 384x640 2 persons, 49.1ms\n"
     ]
    },
    {
     "name": "stdout",
     "output_type": "stream",
     "text": [
      "Erreur fichier: D:\\INSA/5IF\\MediaEval_ClassificationTask\\data\\classificationTask\\train\\Negative\\276763674.mp4\n",
      "D:\\INSA/5IF\\MediaEval_ClassificationTask\\data\\classificationTask\\train\\Negative\\528913764.mp4\n",
      "Erreur fichier: D:\\INSA/5IF\\MediaEval_ClassificationTask\\data\\classificationTask\\train\\Negative\\528913764.mp4\n",
      "D:\\INSA/5IF\\MediaEval_ClassificationTask\\data\\classificationTask\\train\\Negative\\5319642108.mp4\n"
     ]
    },
    {
     "name": "stderr",
     "output_type": "stream",
     "text": [
      "Speed: 2.1ms preprocess, 49.1ms inference, 3.0ms postprocess per image at shape (1, 3, 384, 640)\n",
      "\n",
      "0: 384x640 1 person, 49.3ms\n",
      "Speed: 2.0ms preprocess, 49.3ms inference, 3.0ms postprocess per image at shape (1, 3, 384, 640)\n",
      "\n",
      "0: 384x640 1 person, 42.0ms\n"
     ]
    },
    {
     "name": "stdout",
     "output_type": "stream",
     "text": [
      "Erreur fichier: D:\\INSA/5IF\\MediaEval_ClassificationTask\\data\\classificationTask\\train\\Negative\\5319642108.mp4\n",
      "D:\\INSA/5IF\\MediaEval_ClassificationTask\\data\\classificationTask\\train\\Negative\\54107653102.mp4\n",
      "Erreur fichier: D:\\INSA/5IF\\MediaEval_ClassificationTask\\data\\classificationTask\\train\\Negative\\54107653102.mp4\n",
      "D:\\INSA/5IF\\MediaEval_ClassificationTask\\data\\classificationTask\\train\\Negative\\55131103102.mp4\n"
     ]
    },
    {
     "name": "stderr",
     "output_type": "stream",
     "text": [
      "Speed: 3.0ms preprocess, 42.0ms inference, 3.0ms postprocess per image at shape (1, 3, 384, 640)\n",
      "\n",
      "0: 384x640 1 person, 42.0ms\n",
      "Speed: 2.0ms preprocess, 42.0ms inference, 3.0ms postprocess per image at shape (1, 3, 384, 640)\n",
      "\n",
      "0: 384x640 1 person, 39.0ms\n"
     ]
    },
    {
     "name": "stdout",
     "output_type": "stream",
     "text": [
      "Erreur fichier: D:\\INSA/5IF\\MediaEval_ClassificationTask\\data\\classificationTask\\train\\Negative\\55131103102.mp4\n",
      "D:\\INSA/5IF\\MediaEval_ClassificationTask\\data\\classificationTask\\train\\Negative\\566891261.mp4\n",
      "Erreur fichier: D:\\INSA/5IF\\MediaEval_ClassificationTask\\data\\classificationTask\\train\\Negative\\566891261.mp4\n",
      "D:\\INSA/5IF\\MediaEval_ClassificationTask\\data\\classificationTask\\train\\Negative\\573394689.mp4\n"
     ]
    },
    {
     "name": "stderr",
     "output_type": "stream",
     "text": [
      "Speed: 2.0ms preprocess, 39.0ms inference, 3.0ms postprocess per image at shape (1, 3, 384, 640)\n",
      "\n",
      "0: 384x640 1 person, 39.2ms\n",
      "Speed: 3.0ms preprocess, 39.2ms inference, 3.0ms postprocess per image at shape (1, 3, 384, 640)\n",
      "\n",
      "0: 384x640 2 persons, 37.5ms\n",
      "Speed: 2.0ms preprocess, 37.5ms inference, 3.0ms postprocess per image at shape (1, 3, 384, 640)\n",
      "\n"
     ]
    },
    {
     "name": "stdout",
     "output_type": "stream",
     "text": [
      "Erreur fichier: D:\\INSA/5IF\\MediaEval_ClassificationTask\\data\\classificationTask\\train\\Negative\\573394689.mp4\n",
      "D:\\INSA/5IF\\MediaEval_ClassificationTask\\data\\classificationTask\\train\\Negative\\578846625.mp4\n",
      "Erreur fichier: D:\\INSA/5IF\\MediaEval_ClassificationTask\\data\\classificationTask\\train\\Negative\\578846625.mp4\n",
      "D:\\INSA/5IF\\MediaEval_ClassificationTask\\data\\classificationTask\\train\\Negative\\594867519.mp4\n",
      "Erreur fichier: D:\\INSA/5IF\\MediaEval_ClassificationTask\\data\\classificationTask\\train\\Negative\\594867519.mp4\n",
      "D:\\INSA/5IF\\MediaEval_ClassificationTask\\data\\classificationTask\\train\\Negative\\635781694.mp4\n"
     ]
    },
    {
     "name": "stderr",
     "output_type": "stream",
     "text": [
      "0: 384x640 1 person, 33.5ms\n",
      "Speed: 2.0ms preprocess, 33.5ms inference, 4.0ms postprocess per image at shape (1, 3, 384, 640)\n",
      "\n",
      "0: 384x640 1 person, 34.0ms\n",
      "Speed: 2.1ms preprocess, 34.0ms inference, 3.0ms postprocess per image at shape (1, 3, 384, 640)\n",
      "\n",
      "0: 384x640 1 person, 33.0ms\n",
      "Speed: 3.0ms preprocess, 33.0ms inference, 4.0ms postprocess per image at shape (1, 3, 384, 640)\n"
     ]
    },
    {
     "name": "stdout",
     "output_type": "stream",
     "text": [
      "Erreur fichier: D:\\INSA/5IF\\MediaEval_ClassificationTask\\data\\classificationTask\\train\\Negative\\635781694.mp4\n",
      "D:\\INSA/5IF\\MediaEval_ClassificationTask\\data\\classificationTask\\train\\Negative\\638327265.mp4\n",
      "Erreur fichier: D:\\INSA/5IF\\MediaEval_ClassificationTask\\data\\classificationTask\\train\\Negative\\638327265.mp4\n",
      "D:\\INSA/5IF\\MediaEval_ClassificationTask\\data\\classificationTask\\train\\Negative\\6417473103.mp4\n",
      "Erreur fichier: D:\\INSA/5IF\\MediaEval_ClassificationTask\\data\\classificationTask\\train\\Negative\\6417473103.mp4\n",
      "D:\\INSA/5IF\\MediaEval_ClassificationTask\\data\\classificationTask\\train\\Negative\\642333617.mp4\n"
     ]
    },
    {
     "name": "stderr",
     "output_type": "stream",
     "text": [
      "\n",
      "0: 384x640 1 person, 33.0ms\n",
      "Speed: 3.0ms preprocess, 33.0ms inference, 4.0ms postprocess per image at shape (1, 3, 384, 640)\n",
      "\n",
      "0: 384x640 1 person, 34.0ms\n",
      "Speed: 2.0ms preprocess, 34.0ms inference, 3.0ms postprocess per image at shape (1, 3, 384, 640)\n",
      "\n",
      "0: 384x640 2 persons, 33.0ms\n",
      "Speed: 3.0ms preprocess, 33.0ms inference, 3.0ms postprocess per image at shape (1, 3, 384, 640)\n"
     ]
    },
    {
     "name": "stdout",
     "output_type": "stream",
     "text": [
      "Erreur fichier: D:\\INSA/5IF\\MediaEval_ClassificationTask\\data\\classificationTask\\train\\Negative\\642333617.mp4\n",
      "D:\\INSA/5IF\\MediaEval_ClassificationTask\\data\\classificationTask\\train\\Negative\\6599102563.mp4\n",
      "Erreur fichier: D:\\INSA/5IF\\MediaEval_ClassificationTask\\data\\classificationTask\\train\\Negative\\6599102563.mp4\n",
      "D:\\INSA/5IF\\MediaEval_ClassificationTask\\data\\classificationTask\\train\\Negative\\668927732.mp4\n",
      "Erreur fichier: D:\\INSA/5IF\\MediaEval_ClassificationTask\\data\\classificationTask\\train\\Negative\\668927732.mp4\n",
      "D:\\INSA/5IF\\MediaEval_ClassificationTask\\data\\classificationTask\\train\\Negative\\698995141.mp4\n"
     ]
    },
    {
     "name": "stderr",
     "output_type": "stream",
     "text": [
      "\n",
      "0: 384x640 2 persons, 33.0ms\n",
      "Speed: 2.0ms preprocess, 33.0ms inference, 4.0ms postprocess per image at shape (1, 3, 384, 640)\n",
      "\n",
      "0: 384x640 1 person, 33.0ms\n",
      "Speed: 2.0ms preprocess, 33.0ms inference, 4.0ms postprocess per image at shape (1, 3, 384, 640)\n",
      "\n",
      "0: 384x640 2 persons, 33.0ms\n"
     ]
    },
    {
     "name": "stdout",
     "output_type": "stream",
     "text": [
      "Erreur fichier: D:\\INSA/5IF\\MediaEval_ClassificationTask\\data\\classificationTask\\train\\Negative\\698995141.mp4\n",
      "D:\\INSA/5IF\\MediaEval_ClassificationTask\\data\\classificationTask\\train\\Negative\\7101248638.mp4\n",
      "Erreur fichier: D:\\INSA/5IF\\MediaEval_ClassificationTask\\data\\classificationTask\\train\\Negative\\7101248638.mp4\n",
      "D:\\INSA/5IF\\MediaEval_ClassificationTask\\data\\classificationTask\\train\\Negative\\7105497794.mp4\n"
     ]
    },
    {
     "name": "stderr",
     "output_type": "stream",
     "text": [
      "Speed: 2.0ms preprocess, 33.0ms inference, 4.0ms postprocess per image at shape (1, 3, 384, 640)\n",
      "\n",
      "0: 384x640 1 person, 34.0ms\n",
      "Speed: 2.0ms preprocess, 34.0ms inference, 5.0ms postprocess per image at shape (1, 3, 384, 640)\n",
      "\n",
      "0: 384x640 2 persons, 34.0ms\n",
      "Speed: 2.0ms preprocess, 34.0ms inference, 3.0ms postprocess per image at shape (1, 3, 384, 640)\n"
     ]
    },
    {
     "name": "stdout",
     "output_type": "stream",
     "text": [
      "Erreur fichier: D:\\INSA/5IF\\MediaEval_ClassificationTask\\data\\classificationTask\\train\\Negative\\7105497794.mp4\n",
      "D:\\INSA/5IF\\MediaEval_ClassificationTask\\data\\classificationTask\\train\\Negative\\7196991103.mp4\n",
      "Erreur fichier: D:\\INSA/5IF\\MediaEval_ClassificationTask\\data\\classificationTask\\train\\Negative\\7196991103.mp4\n",
      "D:\\INSA/5IF\\MediaEval_ClassificationTask\\data\\classificationTask\\train\\Negative\\722437581.mp4\n"
     ]
    },
    {
     "name": "stderr",
     "output_type": "stream",
     "text": [
      "\n",
      "0: 384x640 2 persons, 34.1ms\n",
      "Speed: 2.0ms preprocess, 34.1ms inference, 3.0ms postprocess per image at shape (1, 3, 384, 640)\n",
      "\n",
      "0: 384x640 1 person, 33.2ms\n",
      "Speed: 2.0ms preprocess, 33.2ms inference, 4.0ms postprocess per image at shape (1, 3, 384, 640)\n"
     ]
    },
    {
     "name": "stdout",
     "output_type": "stream",
     "text": [
      "Erreur fichier: D:\\INSA/5IF\\MediaEval_ClassificationTask\\data\\classificationTask\\train\\Negative\\722437581.mp4\n",
      "D:\\INSA/5IF\\MediaEval_ClassificationTask\\data\\classificationTask\\train\\Negative\\7364310752.mp4\n",
      "Erreur fichier: D:\\INSA/5IF\\MediaEval_ClassificationTask\\data\\classificationTask\\train\\Negative\\7364310752.mp4\n",
      "D:\\INSA/5IF\\MediaEval_ClassificationTask\\data\\classificationTask\\train\\Negative\\7639251027.mp4\n",
      "Erreur fichier: D:\\INSA/5IF\\MediaEval_ClassificationTask\\data\\classificationTask\\train\\Negative\\7639251027.mp4\n",
      "D:\\INSA/5IF\\MediaEval_ClassificationTask\\data\\classificationTask\\train\\Negative\\7963237510.mp4\n"
     ]
    },
    {
     "name": "stderr",
     "output_type": "stream",
     "text": [
      "\n",
      "0: 384x640 1 person, 32.1ms\n",
      "Speed: 3.0ms preprocess, 32.1ms inference, 4.0ms postprocess per image at shape (1, 3, 384, 640)\n",
      "\n",
      "0: 384x640 2 persons, 32.0ms\n",
      "Speed: 2.0ms preprocess, 32.0ms inference, 3.0ms postprocess per image at shape (1, 3, 384, 640)\n",
      "\n",
      "0: 384x640 2 persons, 32.0ms\n",
      "Speed: 3.0ms preprocess, 32.0ms inference, 3.0ms postprocess per image at shape (1, 3, 384, 640)\n"
     ]
    },
    {
     "name": "stdout",
     "output_type": "stream",
     "text": [
      "Erreur fichier: D:\\INSA/5IF\\MediaEval_ClassificationTask\\data\\classificationTask\\train\\Negative\\7963237510.mp4\n",
      "D:\\INSA/5IF\\MediaEval_ClassificationTask\\data\\classificationTask\\train\\Negative\\8107225931.mp4\n",
      "Erreur fichier: D:\\INSA/5IF\\MediaEval_ClassificationTask\\data\\classificationTask\\train\\Negative\\8107225931.mp4\n",
      "D:\\INSA/5IF\\MediaEval_ClassificationTask\\data\\classificationTask\\train\\Negative\\8481016866.mp4\n",
      "Erreur fichier: D:\\INSA/5IF\\MediaEval_ClassificationTask\\data\\classificationTask\\train\\Negative\\8481016866.mp4\n",
      "D:\\INSA/5IF\\MediaEval_ClassificationTask\\data\\classificationTask\\train\\Negative\\851873112.mp4\n"
     ]
    },
    {
     "name": "stderr",
     "output_type": "stream",
     "text": [
      "\n",
      "0: 384x640 1 person, 32.0ms\n",
      "Speed: 2.0ms preprocess, 32.0ms inference, 4.0ms postprocess per image at shape (1, 3, 384, 640)\n",
      "\n",
      "0: 384x640 2 persons, 31.0ms\n",
      "Speed: 3.0ms preprocess, 31.0ms inference, 7.0ms postprocess per image at shape (1, 3, 384, 640)\n",
      "\n",
      "0: 384x640 2 persons, 32.0ms\n",
      "Speed: 3.0ms preprocess, 32.0ms inference, 3.0ms postprocess per image at shape (1, 3, 384, 640)\n"
     ]
    },
    {
     "name": "stdout",
     "output_type": "stream",
     "text": [
      "Erreur fichier: D:\\INSA/5IF\\MediaEval_ClassificationTask\\data\\classificationTask\\train\\Negative\\851873112.mp4\n",
      "D:\\INSA/5IF\\MediaEval_ClassificationTask\\data\\classificationTask\\train\\Negative\\8612121089.mp4\n",
      "Erreur fichier: D:\\INSA/5IF\\MediaEval_ClassificationTask\\data\\classificationTask\\train\\Negative\\8612121089.mp4\n",
      "D:\\INSA/5IF\\MediaEval_ClassificationTask\\data\\classificationTask\\train\\Negative\\864866522.mp4\n",
      "Erreur fichier: D:\\INSA/5IF\\MediaEval_ClassificationTask\\data\\classificationTask\\train\\Negative\\864866522.mp4\n",
      "D:\\INSA/5IF\\MediaEval_ClassificationTask\\data\\classificationTask\\train\\Negative\\878673411.mp4\n"
     ]
    },
    {
     "name": "stderr",
     "output_type": "stream",
     "text": [
      "\n",
      "0: 384x640 1 person, 31.5ms\n",
      "Speed: 2.0ms preprocess, 31.5ms inference, 4.0ms postprocess per image at shape (1, 3, 384, 640)\n",
      "\n",
      "0: 384x640 2 persons, 31.6ms\n",
      "Speed: 2.0ms preprocess, 31.6ms inference, 3.0ms postprocess per image at shape (1, 3, 384, 640)\n",
      "\n",
      "0: 384x640 1 person, 31.1ms\n",
      "Speed: 2.0ms preprocess, 31.1ms inference, 3.0ms postprocess per image at shape (1, 3, 384, 640)\n"
     ]
    },
    {
     "name": "stdout",
     "output_type": "stream",
     "text": [
      "Erreur fichier: D:\\INSA/5IF\\MediaEval_ClassificationTask\\data\\classificationTask\\train\\Negative\\878673411.mp4\n",
      "D:\\INSA/5IF\\MediaEval_ClassificationTask\\data\\classificationTask\\train\\Negative\\8873102482.mp4\n",
      "Erreur fichier: D:\\INSA/5IF\\MediaEval_ClassificationTask\\data\\classificationTask\\train\\Negative\\8873102482.mp4\n",
      "D:\\INSA/5IF\\MediaEval_ClassificationTask\\data\\classificationTask\\train\\Negative\\8941056347.mp4\n",
      "Erreur fichier: D:\\INSA/5IF\\MediaEval_ClassificationTask\\data\\classificationTask\\train\\Negative\\8941056347.mp4\n",
      "D:\\INSA/5IF\\MediaEval_ClassificationTask\\data\\classificationTask\\train\\Negative\\8949610662.mp4\n"
     ]
    },
    {
     "name": "stderr",
     "output_type": "stream",
     "text": [
      "\n",
      "0: 384x640 1 person, 31.0ms\n",
      "Speed: 3.0ms preprocess, 31.0ms inference, 3.0ms postprocess per image at shape (1, 3, 384, 640)\n",
      "\n",
      "0: 384x640 1 person, 32.0ms\n",
      "Speed: 2.0ms preprocess, 32.0ms inference, 3.0ms postprocess per image at shape (1, 3, 384, 640)\n",
      "\n",
      "0: 384x640 1 person, 30.0ms\n",
      "Speed: 3.0ms preprocess, 30.0ms inference, 4.0ms postprocess per image at shape (1, 3, 384, 640)\n"
     ]
    },
    {
     "name": "stdout",
     "output_type": "stream",
     "text": [
      "Erreur fichier: D:\\INSA/5IF\\MediaEval_ClassificationTask\\data\\classificationTask\\train\\Negative\\8949610662.mp4\n",
      "D:\\INSA/5IF\\MediaEval_ClassificationTask\\data\\classificationTask\\train\\Negative\\9103148231.mp4\n",
      "Erreur fichier: D:\\INSA/5IF\\MediaEval_ClassificationTask\\data\\classificationTask\\train\\Negative\\9103148231.mp4\n",
      "D:\\INSA/5IF\\MediaEval_ClassificationTask\\data\\classificationTask\\train\\Negative\\9221088495.mp4\n",
      "Erreur fichier: D:\\INSA/5IF\\MediaEval_ClassificationTask\\data\\classificationTask\\train\\Negative\\9221088495.mp4\n",
      "D:\\INSA/5IF\\MediaEval_ClassificationTask\\data\\classificationTask\\train\\Negative\\9267545210.mp4\n"
     ]
    },
    {
     "name": "stderr",
     "output_type": "stream",
     "text": [
      "\n",
      "0: 384x640 1 person, 32.0ms\n",
      "Speed: 2.0ms preprocess, 32.0ms inference, 3.0ms postprocess per image at shape (1, 3, 384, 640)\n",
      "\n",
      "0: 384x640 1 person, 31.0ms\n",
      "Speed: 2.0ms preprocess, 31.0ms inference, 3.0ms postprocess per image at shape (1, 3, 384, 640)\n",
      "\n",
      "0: 384x640 2 persons, 31.5ms\n",
      "Speed: 2.0ms preprocess, 31.5ms inference, 3.0ms postprocess per image at shape (1, 3, 384, 640)\n"
     ]
    },
    {
     "name": "stdout",
     "output_type": "stream",
     "text": [
      "Erreur fichier: D:\\INSA/5IF\\MediaEval_ClassificationTask\\data\\classificationTask\\train\\Negative\\9267545210.mp4\n",
      "D:\\INSA/5IF\\MediaEval_ClassificationTask\\data\\classificationTask\\train\\Negative\\929814219.mp4\n",
      "Erreur fichier: D:\\INSA/5IF\\MediaEval_ClassificationTask\\data\\classificationTask\\train\\Negative\\929814219.mp4\n",
      "D:\\INSA/5IF\\MediaEval_ClassificationTask\\data\\classificationTask\\train\\Negative\\972959692.mp4\n",
      "Erreur fichier: D:\\INSA/5IF\\MediaEval_ClassificationTask\\data\\classificationTask\\train\\Negative\\972959692.mp4\n",
      "D:\\INSA/5IF\\MediaEval_ClassificationTask\\data\\classificationTask\\train\\Negative\\975591061010.mp4\n"
     ]
    },
    {
     "name": "stderr",
     "output_type": "stream",
     "text": [
      "\n",
      "0: 384x640 1 person, 31.5ms\n",
      "Speed: 2.0ms preprocess, 31.5ms inference, 3.0ms postprocess per image at shape (1, 3, 384, 640)\n",
      "\n",
      "0: 384x640 2 persons, 31.6ms\n",
      "Speed: 2.0ms preprocess, 31.6ms inference, 3.0ms postprocess per image at shape (1, 3, 384, 640)\n",
      "\n",
      "0: 384x640 1 person, 31.1ms\n",
      "Speed: 2.0ms preprocess, 31.1ms inference, 3.6ms postprocess per image at shape (1, 3, 384, 640)\n"
     ]
    },
    {
     "name": "stdout",
     "output_type": "stream",
     "text": [
      "Erreur fichier: D:\\INSA/5IF\\MediaEval_ClassificationTask\\data\\classificationTask\\train\\Negative\\975591061010.mp4\n",
      "D:\\INSA/5IF\\MediaEval_ClassificationTask\\data\\classificationTask\\train\\Negative\\998539281.mp4\n",
      "Erreur fichier: D:\\INSA/5IF\\MediaEval_ClassificationTask\\data\\classificationTask\\train\\Negative\\998539281.mp4\n",
      "D:\\INSA/5IF\\MediaEval_ClassificationTask\\data\\classificationTask\\train\\Offensive Backhand Flip\\10391016445.mp4\n",
      "Erreur fichier: D:\\INSA/5IF\\MediaEval_ClassificationTask\\data\\classificationTask\\train\\Offensive Backhand Flip\\10391016445.mp4\n",
      "D:\\INSA/5IF\\MediaEval_ClassificationTask\\data\\classificationTask\\train\\Offensive Backhand Flip\\10539610444.mp4\n"
     ]
    },
    {
     "name": "stderr",
     "output_type": "stream",
     "text": [
      "\n",
      "0: 384x640 1 person, 31.0ms\n",
      "Speed: 3.0ms preprocess, 31.0ms inference, 4.0ms postprocess per image at shape (1, 3, 384, 640)\n",
      "\n",
      "0: 384x640 1 person, 31.0ms\n",
      "Speed: 3.0ms preprocess, 31.0ms inference, 3.0ms postprocess per image at shape (1, 3, 384, 640)\n",
      "\n",
      "0: 384x640 1 person, 31.0ms\n",
      "Speed: 2.0ms preprocess, 31.0ms inference, 3.0ms postprocess per image at shape (1, 3, 384, 640)\n"
     ]
    },
    {
     "name": "stdout",
     "output_type": "stream",
     "text": [
      "Erreur fichier: D:\\INSA/5IF\\MediaEval_ClassificationTask\\data\\classificationTask\\train\\Offensive Backhand Flip\\10539610444.mp4\n",
      "D:\\INSA/5IF\\MediaEval_ClassificationTask\\data\\classificationTask\\train\\Offensive Backhand Flip\\10742610693.mp4\n",
      "Erreur fichier: D:\\INSA/5IF\\MediaEval_ClassificationTask\\data\\classificationTask\\train\\Offensive Backhand Flip\\10742610693.mp4\n",
      "D:\\INSA/5IF\\MediaEval_ClassificationTask\\data\\classificationTask\\train\\Offensive Backhand Flip\\1076732283.mp4\n",
      "Erreur fichier: D:\\INSA/5IF\\MediaEval_ClassificationTask\\data\\classificationTask\\train\\Offensive Backhand Flip\\1076732283.mp4\n",
      "D:\\INSA/5IF\\MediaEval_ClassificationTask\\data\\classificationTask\\train\\Offensive Backhand Flip\\247672972.mp4\n"
     ]
    },
    {
     "name": "stderr",
     "output_type": "stream",
     "text": [
      "\n",
      "0: 384x640 1 person, 31.0ms\n",
      "Speed: 2.0ms preprocess, 31.0ms inference, 4.0ms postprocess per image at shape (1, 3, 384, 640)\n",
      "\n",
      "0: 384x640 1 person, 31.0ms\n",
      "Speed: 2.0ms preprocess, 31.0ms inference, 4.0ms postprocess per image at shape (1, 3, 384, 640)\n",
      "\n",
      "0: 384x640 1 person, 31.1ms\n",
      "Speed: 2.0ms preprocess, 31.1ms inference, 3.0ms postprocess per image at shape (1, 3, 384, 640)\n"
     ]
    },
    {
     "name": "stdout",
     "output_type": "stream",
     "text": [
      "Erreur fichier: D:\\INSA/5IF\\MediaEval_ClassificationTask\\data\\classificationTask\\train\\Offensive Backhand Flip\\247672972.mp4\n",
      "D:\\INSA/5IF\\MediaEval_ClassificationTask\\data\\classificationTask\\train\\Offensive Backhand Flip\\2610627232.mp4\n",
      "Erreur fichier: D:\\INSA/5IF\\MediaEval_ClassificationTask\\data\\classificationTask\\train\\Offensive Backhand Flip\\2610627232.mp4\n",
      "D:\\INSA/5IF\\MediaEval_ClassificationTask\\data\\classificationTask\\train\\Offensive Backhand Flip\\2767109286.mp4\n",
      "Erreur fichier: D:\\INSA/5IF\\MediaEval_ClassificationTask\\data\\classificationTask\\train\\Offensive Backhand Flip\\2767109286.mp4\n",
      "D:\\INSA/5IF\\MediaEval_ClassificationTask\\data\\classificationTask\\train\\Offensive Backhand Flip\\345123391.mp4\n"
     ]
    },
    {
     "name": "stderr",
     "output_type": "stream",
     "text": [
      "\n",
      "0: 384x640 1 person, 31.5ms\n",
      "Speed: 3.0ms preprocess, 31.5ms inference, 4.0ms postprocess per image at shape (1, 3, 384, 640)\n",
      "\n",
      "0: 384x640 1 person, 31.1ms\n",
      "Speed: 2.0ms preprocess, 31.1ms inference, 4.0ms postprocess per image at shape (1, 3, 384, 640)\n",
      "\n",
      "0: 384x640 1 person, 30.0ms\n",
      "Speed: 3.0ms preprocess, 30.0ms inference, 3.0ms postprocess per image at shape (1, 3, 384, 640)\n"
     ]
    },
    {
     "name": "stdout",
     "output_type": "stream",
     "text": [
      "Erreur fichier: D:\\INSA/5IF\\MediaEval_ClassificationTask\\data\\classificationTask\\train\\Offensive Backhand Flip\\345123391.mp4\n",
      "D:\\INSA/5IF\\MediaEval_ClassificationTask\\data\\classificationTask\\train\\Offensive Backhand Flip\\3624493106.mp4\n",
      "Erreur fichier: D:\\INSA/5IF\\MediaEval_ClassificationTask\\data\\classificationTask\\train\\Offensive Backhand Flip\\3624493106.mp4\n",
      "D:\\INSA/5IF\\MediaEval_ClassificationTask\\data\\classificationTask\\train\\Offensive Backhand Flip\\426831592.mp4\n",
      "Erreur fichier: D:\\INSA/5IF\\MediaEval_ClassificationTask\\data\\classificationTask\\train\\Offensive Backhand Flip\\426831592.mp4\n",
      "D:\\INSA/5IF\\MediaEval_ClassificationTask\\data\\classificationTask\\train\\Offensive Backhand Flip\\46107107942.mp4\n"
     ]
    },
    {
     "name": "stderr",
     "output_type": "stream",
     "text": [
      "\n",
      "0: 384x640 1 person, 34.0ms\n",
      "Speed: 2.0ms preprocess, 34.0ms inference, 3.0ms postprocess per image at shape (1, 3, 384, 640)\n",
      "\n",
      "0: 384x640 1 person, 33.0ms\n",
      "Speed: 3.0ms preprocess, 33.0ms inference, 3.0ms postprocess per image at shape (1, 3, 384, 640)\n",
      "\n",
      "0: 384x640 1 person, 32.8ms\n",
      "Speed: 2.0ms preprocess, 32.8ms inference, 3.0ms postprocess per image at shape (1, 3, 384, 640)\n"
     ]
    },
    {
     "name": "stdout",
     "output_type": "stream",
     "text": [
      "Erreur fichier: D:\\INSA/5IF\\MediaEval_ClassificationTask\\data\\classificationTask\\train\\Offensive Backhand Flip\\46107107942.mp4\n",
      "D:\\INSA/5IF\\MediaEval_ClassificationTask\\data\\classificationTask\\train\\Offensive Backhand Flip\\461994954.mp4\n",
      "Erreur fichier: D:\\INSA/5IF\\MediaEval_ClassificationTask\\data\\classificationTask\\train\\Offensive Backhand Flip\\461994954.mp4\n",
      "D:\\INSA/5IF\\MediaEval_ClassificationTask\\data\\classificationTask\\train\\Offensive Backhand Flip\\5794101151.mp4\n",
      "Erreur fichier: D:\\INSA/5IF\\MediaEval_ClassificationTask\\data\\classificationTask\\train\\Offensive Backhand Flip\\5794101151.mp4\n",
      "D:\\INSA/5IF\\MediaEval_ClassificationTask\\data\\classificationTask\\train\\Offensive Backhand Flip\\5810312166.mp4\n"
     ]
    },
    {
     "name": "stderr",
     "output_type": "stream",
     "text": [
      "\n",
      "0: 384x640 1 person, 30.6ms\n",
      "Speed: 2.0ms preprocess, 30.6ms inference, 3.0ms postprocess per image at shape (1, 3, 384, 640)\n",
      "\n",
      "0: 384x640 1 person, 31.5ms\n",
      "Speed: 2.0ms preprocess, 31.5ms inference, 3.0ms postprocess per image at shape (1, 3, 384, 640)\n",
      "\n",
      "0: 384x640 1 person, 31.4ms\n",
      "Speed: 2.0ms preprocess, 31.4ms inference, 3.5ms postprocess per image at shape (1, 3, 384, 640)\n"
     ]
    },
    {
     "name": "stdout",
     "output_type": "stream",
     "text": [
      "Erreur fichier: D:\\INSA/5IF\\MediaEval_ClassificationTask\\data\\classificationTask\\train\\Offensive Backhand Flip\\5810312166.mp4\n",
      "D:\\INSA/5IF\\MediaEval_ClassificationTask\\data\\classificationTask\\train\\Offensive Backhand Flip\\61101109342.mp4\n",
      "Erreur fichier: D:\\INSA/5IF\\MediaEval_ClassificationTask\\data\\classificationTask\\train\\Offensive Backhand Flip\\61101109342.mp4\n",
      "D:\\INSA/5IF\\MediaEval_ClassificationTask\\data\\classificationTask\\train\\Offensive Backhand Flip\\696910106510.mp4\n",
      "Erreur fichier: D:\\INSA/5IF\\MediaEval_ClassificationTask\\data\\classificationTask\\train\\Offensive Backhand Flip\\696910106510.mp4\n",
      "D:\\INSA/5IF\\MediaEval_ClassificationTask\\data\\classificationTask\\train\\Offensive Backhand Flip\\732727571.mp4\n"
     ]
    },
    {
     "name": "stderr",
     "output_type": "stream",
     "text": [
      "\n",
      "0: 384x640 1 person, 31.0ms\n",
      "Speed: 3.0ms preprocess, 31.0ms inference, 4.0ms postprocess per image at shape (1, 3, 384, 640)\n",
      "\n",
      "0: 384x640 2 persons, 32.0ms\n",
      "Speed: 2.0ms preprocess, 32.0ms inference, 6.0ms postprocess per image at shape (1, 3, 384, 640)\n",
      "\n",
      "0: 384x640 1 person, 30.0ms\n",
      "Speed: 3.0ms preprocess, 30.0ms inference, 4.0ms postprocess per image at shape (1, 3, 384, 640)\n"
     ]
    },
    {
     "name": "stdout",
     "output_type": "stream",
     "text": [
      "Erreur fichier: D:\\INSA/5IF\\MediaEval_ClassificationTask\\data\\classificationTask\\train\\Offensive Backhand Flip\\732727571.mp4\n",
      "D:\\INSA/5IF\\MediaEval_ClassificationTask\\data\\classificationTask\\train\\Offensive Backhand Flip\\741021061032.mp4\n",
      "Erreur fichier: D:\\INSA/5IF\\MediaEval_ClassificationTask\\data\\classificationTask\\train\\Offensive Backhand Flip\\741021061032.mp4\n",
      "D:\\INSA/5IF\\MediaEval_ClassificationTask\\data\\classificationTask\\train\\Offensive Backhand Flip\\753327316.mp4\n",
      "Erreur fichier: D:\\INSA/5IF\\MediaEval_ClassificationTask\\data\\classificationTask\\train\\Offensive Backhand Flip\\753327316.mp4\n",
      "D:\\INSA/5IF\\MediaEval_ClassificationTask\\data\\classificationTask\\train\\Offensive Backhand Flip\\793453276.mp4\n"
     ]
    },
    {
     "name": "stderr",
     "output_type": "stream",
     "text": [
      "\n",
      "0: 384x640 1 person, 30.0ms\n",
      "Speed: 3.0ms preprocess, 30.0ms inference, 3.0ms postprocess per image at shape (1, 3, 384, 640)\n",
      "\n",
      "0: 384x640 1 person, 30.6ms\n",
      "Speed: 3.0ms preprocess, 30.6ms inference, 3.0ms postprocess per image at shape (1, 3, 384, 640)\n",
      "\n",
      "0: 384x640 1 person, 31.6ms\n",
      "Speed: 2.0ms preprocess, 31.6ms inference, 3.0ms postprocess per image at shape (1, 3, 384, 640)\n"
     ]
    },
    {
     "name": "stdout",
     "output_type": "stream",
     "text": [
      "Erreur fichier: D:\\INSA/5IF\\MediaEval_ClassificationTask\\data\\classificationTask\\train\\Offensive Backhand Flip\\793453276.mp4\n",
      "D:\\INSA/5IF\\MediaEval_ClassificationTask\\data\\classificationTask\\train\\Offensive Backhand Flip\\88103454810.mp4\n",
      "Erreur fichier: D:\\INSA/5IF\\MediaEval_ClassificationTask\\data\\classificationTask\\train\\Offensive Backhand Flip\\88103454810.mp4\n",
      "D:\\INSA/5IF\\MediaEval_ClassificationTask\\data\\classificationTask\\train\\Offensive Backhand Flip\\945618193.mp4\n",
      "Erreur fichier: D:\\INSA/5IF\\MediaEval_ClassificationTask\\data\\classificationTask\\train\\Offensive Backhand Flip\\945618193.mp4\n",
      "D:\\INSA/5IF\\MediaEval_ClassificationTask\\data\\classificationTask\\train\\Offensive Backhand Flip\\953116482.mp4\n"
     ]
    },
    {
     "name": "stderr",
     "output_type": "stream",
     "text": [
      "\n",
      "0: 384x640 1 person, 31.0ms\n",
      "Speed: 3.0ms preprocess, 31.0ms inference, 5.0ms postprocess per image at shape (1, 3, 384, 640)\n",
      "\n",
      "0: 384x640 1 person, 31.0ms\n",
      "Speed: 2.0ms preprocess, 31.0ms inference, 6.0ms postprocess per image at shape (1, 3, 384, 640)\n",
      "\n",
      "0: 384x640 1 person, 30.0ms\n",
      "Speed: 2.0ms preprocess, 30.0ms inference, 4.0ms postprocess per image at shape (1, 3, 384, 640)\n",
      "\n"
     ]
    },
    {
     "name": "stdout",
     "output_type": "stream",
     "text": [
      "Erreur fichier: D:\\INSA/5IF\\MediaEval_ClassificationTask\\data\\classificationTask\\train\\Offensive Backhand Flip\\953116482.mp4\n",
      "D:\\INSA/5IF\\MediaEval_ClassificationTask\\data\\classificationTask\\train\\Offensive Backhand Flip\\9837106567.mp4\n",
      "Erreur fichier: D:\\INSA/5IF\\MediaEval_ClassificationTask\\data\\classificationTask\\train\\Offensive Backhand Flip\\9837106567.mp4\n",
      "D:\\INSA/5IF\\MediaEval_ClassificationTask\\data\\classificationTask\\train\\Offensive Backhand Hit\\1010221051103.mp4\n",
      "Erreur fichier: D:\\INSA/5IF\\MediaEval_ClassificationTask\\data\\classificationTask\\train\\Offensive Backhand Hit\\1010221051103.mp4\n",
      "D:\\INSA/5IF\\MediaEval_ClassificationTask\\data\\classificationTask\\train\\Offensive Backhand Hit\\10621073639.mp4\n"
     ]
    },
    {
     "name": "stderr",
     "output_type": "stream",
     "text": [
      "0: 384x640 1 person, 31.0ms\n",
      "Speed: 2.0ms preprocess, 31.0ms inference, 3.0ms postprocess per image at shape (1, 3, 384, 640)\n",
      "\n",
      "0: 384x640 1 person, 30.5ms\n",
      "Speed: 2.0ms preprocess, 30.5ms inference, 3.0ms postprocess per image at shape (1, 3, 384, 640)\n",
      "\n",
      "0: 384x640 1 person, 31.5ms\n",
      "Speed: 2.0ms preprocess, 31.5ms inference, 5.0ms postprocess per image at shape (1, 3, 384, 640)\n",
      "\n"
     ]
    },
    {
     "name": "stdout",
     "output_type": "stream",
     "text": [
      "Erreur fichier: D:\\INSA/5IF\\MediaEval_ClassificationTask\\data\\classificationTask\\train\\Offensive Backhand Hit\\10621073639.mp4\n",
      "D:\\INSA/5IF\\MediaEval_ClassificationTask\\data\\classificationTask\\train\\Offensive Backhand Hit\\107621010268.mp4\n",
      "Erreur fichier: D:\\INSA/5IF\\MediaEval_ClassificationTask\\data\\classificationTask\\train\\Offensive Backhand Hit\\107621010268.mp4\n",
      "D:\\INSA/5IF\\MediaEval_ClassificationTask\\data\\classificationTask\\train\\Offensive Backhand Hit\\11042510556.mp4\n",
      "Erreur fichier: D:\\INSA/5IF\\MediaEval_ClassificationTask\\data\\classificationTask\\train\\Offensive Backhand Hit\\11042510556.mp4\n",
      "D:\\INSA/5IF\\MediaEval_ClassificationTask\\data\\classificationTask\\train\\Offensive Backhand Hit\\116386771.mp4\n"
     ]
    },
    {
     "name": "stderr",
     "output_type": "stream",
     "text": [
      "0: 384x640 2 persons, 31.1ms\n",
      "Speed: 2.0ms preprocess, 31.1ms inference, 4.1ms postprocess per image at shape (1, 3, 384, 640)\n",
      "\n",
      "0: 384x640 1 person, 31.0ms\n",
      "Speed: 3.0ms preprocess, 31.0ms inference, 3.0ms postprocess per image at shape (1, 3, 384, 640)\n",
      "\n",
      "0: 384x640 1 person, 31.0ms\n",
      "Speed: 2.0ms preprocess, 31.0ms inference, 4.0ms postprocess per image at shape (1, 3, 384, 640)\n"
     ]
    },
    {
     "name": "stdout",
     "output_type": "stream",
     "text": [
      "Erreur fichier: D:\\INSA/5IF\\MediaEval_ClassificationTask\\data\\classificationTask\\train\\Offensive Backhand Hit\\116386771.mp4\n",
      "D:\\INSA/5IF\\MediaEval_ClassificationTask\\data\\classificationTask\\train\\Offensive Backhand Hit\\171429479.mp4\n",
      "Erreur fichier: D:\\INSA/5IF\\MediaEval_ClassificationTask\\data\\classificationTask\\train\\Offensive Backhand Hit\\171429479.mp4\n",
      "D:\\INSA/5IF\\MediaEval_ClassificationTask\\data\\classificationTask\\train\\Offensive Backhand Hit\\21055105829.mp4\n",
      "Erreur fichier: D:\\INSA/5IF\\MediaEval_ClassificationTask\\data\\classificationTask\\train\\Offensive Backhand Hit\\21055105829.mp4\n",
      "D:\\INSA/5IF\\MediaEval_ClassificationTask\\data\\classificationTask\\train\\Offensive Backhand Hit\\222882771.mp4\n"
     ]
    },
    {
     "name": "stderr",
     "output_type": "stream",
     "text": [
      "\n",
      "0: 384x640 1 person, 30.0ms\n",
      "Speed: 2.0ms preprocess, 30.0ms inference, 4.0ms postprocess per image at shape (1, 3, 384, 640)\n",
      "\n",
      "0: 384x640 2 persons, 31.0ms\n",
      "Speed: 3.0ms preprocess, 31.0ms inference, 4.0ms postprocess per image at shape (1, 3, 384, 640)\n",
      "\n",
      "0: 384x640 1 person, 30.4ms\n",
      "Speed: 2.0ms preprocess, 30.4ms inference, 4.0ms postprocess per image at shape (1, 3, 384, 640)\n",
      "\n"
     ]
    },
    {
     "name": "stdout",
     "output_type": "stream",
     "text": [
      "Erreur fichier: D:\\INSA/5IF\\MediaEval_ClassificationTask\\data\\classificationTask\\train\\Offensive Backhand Hit\\222882771.mp4\n",
      "D:\\INSA/5IF\\MediaEval_ClassificationTask\\data\\classificationTask\\train\\Offensive Backhand Hit\\3266151061.mp4\n",
      "Erreur fichier: D:\\INSA/5IF\\MediaEval_ClassificationTask\\data\\classificationTask\\train\\Offensive Backhand Hit\\3266151061.mp4\n",
      "D:\\INSA/5IF\\MediaEval_ClassificationTask\\data\\classificationTask\\train\\Offensive Backhand Hit\\352789748.mp4\n",
      "Erreur fichier: D:\\INSA/5IF\\MediaEval_ClassificationTask\\data\\classificationTask\\train\\Offensive Backhand Hit\\352789748.mp4\n",
      "D:\\INSA/5IF\\MediaEval_ClassificationTask\\data\\classificationTask\\train\\Offensive Backhand Hit\\366589662.mp4\n"
     ]
    },
    {
     "name": "stderr",
     "output_type": "stream",
     "text": [
      "0: 384x640 1 person, 30.3ms\n",
      "Speed: 2.0ms preprocess, 30.3ms inference, 4.0ms postprocess per image at shape (1, 3, 384, 640)\n",
      "\n",
      "0: 384x640 3 persons, 31.0ms\n",
      "Speed: 2.0ms preprocess, 31.0ms inference, 3.7ms postprocess per image at shape (1, 3, 384, 640)\n",
      "\n",
      "0: 384x640 1 person, 31.0ms\n",
      "Speed: 3.0ms preprocess, 31.0ms inference, 3.0ms postprocess per image at shape (1, 3, 384, 640)\n"
     ]
    },
    {
     "name": "stdout",
     "output_type": "stream",
     "text": [
      "Erreur fichier: D:\\INSA/5IF\\MediaEval_ClassificationTask\\data\\classificationTask\\train\\Offensive Backhand Hit\\366589662.mp4\n",
      "D:\\INSA/5IF\\MediaEval_ClassificationTask\\data\\classificationTask\\train\\Offensive Backhand Hit\\374567945.mp4\n",
      "Erreur fichier: D:\\INSA/5IF\\MediaEval_ClassificationTask\\data\\classificationTask\\train\\Offensive Backhand Hit\\374567945.mp4\n",
      "D:\\INSA/5IF\\MediaEval_ClassificationTask\\data\\classificationTask\\train\\Offensive Backhand Hit\\3987835102.mp4\n",
      "Erreur fichier: D:\\INSA/5IF\\MediaEval_ClassificationTask\\data\\classificationTask\\train\\Offensive Backhand Hit\\3987835102.mp4\n",
      "D:\\INSA/5IF\\MediaEval_ClassificationTask\\data\\classificationTask\\train\\Offensive Backhand Hit\\445817492.mp4\n"
     ]
    },
    {
     "name": "stderr",
     "output_type": "stream",
     "text": [
      "\n",
      "0: 384x640 2 persons, 32.0ms\n",
      "Speed: 2.0ms preprocess, 32.0ms inference, 4.0ms postprocess per image at shape (1, 3, 384, 640)\n",
      "\n",
      "0: 384x640 2 persons, 30.0ms\n",
      "Speed: 2.0ms preprocess, 30.0ms inference, 4.0ms postprocess per image at shape (1, 3, 384, 640)\n",
      "\n",
      "0: 384x640 1 person, 31.5ms\n",
      "Speed: 2.0ms preprocess, 31.5ms inference, 3.0ms postprocess per image at shape (1, 3, 384, 640)\n",
      "\n"
     ]
    },
    {
     "name": "stdout",
     "output_type": "stream",
     "text": [
      "Erreur fichier: D:\\INSA/5IF\\MediaEval_ClassificationTask\\data\\classificationTask\\train\\Offensive Backhand Hit\\445817492.mp4\n",
      "D:\\INSA/5IF\\MediaEval_ClassificationTask\\data\\classificationTask\\train\\Offensive Backhand Hit\\49613210810.mp4\n",
      "Erreur fichier: D:\\INSA/5IF\\MediaEval_ClassificationTask\\data\\classificationTask\\train\\Offensive Backhand Hit\\49613210810.mp4\n",
      "D:\\INSA/5IF\\MediaEval_ClassificationTask\\data\\classificationTask\\train\\Offensive Backhand Hit\\5610793233.mp4\n",
      "Erreur fichier: D:\\INSA/5IF\\MediaEval_ClassificationTask\\data\\classificationTask\\train\\Offensive Backhand Hit\\5610793233.mp4\n",
      "D:\\INSA/5IF\\MediaEval_ClassificationTask\\data\\classificationTask\\train\\Offensive Backhand Hit\\5611071282.mp4\n"
     ]
    },
    {
     "name": "stderr",
     "output_type": "stream",
     "text": [
      "0: 384x640 3 persons, 31.5ms\n",
      "Speed: 2.0ms preprocess, 31.5ms inference, 3.0ms postprocess per image at shape (1, 3, 384, 640)\n",
      "\n",
      "0: 384x640 2 persons, 30.6ms\n",
      "Speed: 2.0ms preprocess, 30.6ms inference, 4.0ms postprocess per image at shape (1, 3, 384, 640)\n",
      "\n",
      "0: 384x640 1 person, 30.0ms\n",
      "Speed: 3.0ms preprocess, 30.0ms inference, 4.0ms postprocess per image at shape (1, 3, 384, 640)\n"
     ]
    },
    {
     "name": "stdout",
     "output_type": "stream",
     "text": [
      "Erreur fichier: D:\\INSA/5IF\\MediaEval_ClassificationTask\\data\\classificationTask\\train\\Offensive Backhand Hit\\5611071282.mp4\n",
      "D:\\INSA/5IF\\MediaEval_ClassificationTask\\data\\classificationTask\\train\\Offensive Backhand Hit\\5641062955.mp4\n",
      "Erreur fichier: D:\\INSA/5IF\\MediaEval_ClassificationTask\\data\\classificationTask\\train\\Offensive Backhand Hit\\5641062955.mp4\n",
      "D:\\INSA/5IF\\MediaEval_ClassificationTask\\data\\classificationTask\\train\\Offensive Backhand Hit\\576884819.mp4\n",
      "Erreur fichier: D:\\INSA/5IF\\MediaEval_ClassificationTask\\data\\classificationTask\\train\\Offensive Backhand Hit\\576884819.mp4\n",
      "D:\\INSA/5IF\\MediaEval_ClassificationTask\\data\\classificationTask\\train\\Offensive Backhand Hit\\6311016973.mp4\n"
     ]
    },
    {
     "name": "stderr",
     "output_type": "stream",
     "text": [
      "\n",
      "0: 384x640 2 persons, 30.0ms\n",
      "Speed: 2.0ms preprocess, 30.0ms inference, 4.0ms postprocess per image at shape (1, 3, 384, 640)\n",
      "\n",
      "0: 384x640 1 person, 31.6ms\n",
      "Speed: 2.0ms preprocess, 31.6ms inference, 3.0ms postprocess per image at shape (1, 3, 384, 640)\n",
      "\n",
      "0: 384x640 1 person, 32.0ms\n",
      "Speed: 2.0ms preprocess, 32.0ms inference, 3.0ms postprocess per image at shape (1, 3, 384, 640)\n"
     ]
    },
    {
     "name": "stdout",
     "output_type": "stream",
     "text": [
      "Erreur fichier: D:\\INSA/5IF\\MediaEval_ClassificationTask\\data\\classificationTask\\train\\Offensive Backhand Hit\\6311016973.mp4\n",
      "D:\\INSA/5IF\\MediaEval_ClassificationTask\\data\\classificationTask\\train\\Offensive Backhand Hit\\782189582.mp4\n",
      "Erreur fichier: D:\\INSA/5IF\\MediaEval_ClassificationTask\\data\\classificationTask\\train\\Offensive Backhand Hit\\782189582.mp4\n",
      "D:\\INSA/5IF\\MediaEval_ClassificationTask\\data\\classificationTask\\train\\Offensive Backhand Hit\\7842851104.mp4\n",
      "Erreur fichier: D:\\INSA/5IF\\MediaEval_ClassificationTask\\data\\classificationTask\\train\\Offensive Backhand Hit\\7842851104.mp4\n",
      "D:\\INSA/5IF\\MediaEval_ClassificationTask\\data\\classificationTask\\train\\Offensive Backhand Hit\\829579679.mp4\n"
     ]
    },
    {
     "name": "stderr",
     "output_type": "stream",
     "text": [
      "\n",
      "0: 384x640 2 persons, 31.0ms\n",
      "Speed: 2.5ms preprocess, 31.0ms inference, 4.0ms postprocess per image at shape (1, 3, 384, 640)\n",
      "\n",
      "0: 384x640 2 persons, 30.5ms\n",
      "Speed: 3.0ms preprocess, 30.5ms inference, 5.0ms postprocess per image at shape (1, 3, 384, 640)\n",
      "\n",
      "0: 384x640 1 person, 29.6ms\n",
      "Speed: 3.0ms preprocess, 29.6ms inference, 4.0ms postprocess per image at shape (1, 3, 384, 640)\n",
      "\n"
     ]
    },
    {
     "name": "stdout",
     "output_type": "stream",
     "text": [
      "Erreur fichier: D:\\INSA/5IF\\MediaEval_ClassificationTask\\data\\classificationTask\\train\\Offensive Backhand Hit\\829579679.mp4\n",
      "D:\\INSA/5IF\\MediaEval_ClassificationTask\\data\\classificationTask\\train\\Offensive Backhand Hit\\8415109919.mp4\n",
      "Erreur fichier: D:\\INSA/5IF\\MediaEval_ClassificationTask\\data\\classificationTask\\train\\Offensive Backhand Hit\\8415109919.mp4\n",
      "D:\\INSA/5IF\\MediaEval_ClassificationTask\\data\\classificationTask\\train\\Offensive Backhand Hit\\881145632.mp4\n",
      "Erreur fichier: D:\\INSA/5IF\\MediaEval_ClassificationTask\\data\\classificationTask\\train\\Offensive Backhand Hit\\881145632.mp4\n",
      "D:\\INSA/5IF\\MediaEval_ClassificationTask\\data\\classificationTask\\train\\Offensive Backhand Hit\\898274688.mp4\n"
     ]
    },
    {
     "name": "stderr",
     "output_type": "stream",
     "text": [
      "0: 384x640 1 person, 31.0ms\n",
      "Speed: 3.0ms preprocess, 31.0ms inference, 6.0ms postprocess per image at shape (1, 3, 384, 640)\n",
      "\n",
      "0: 384x640 1 person, 30.0ms\n",
      "Speed: 2.0ms preprocess, 30.0ms inference, 3.0ms postprocess per image at shape (1, 3, 384, 640)\n",
      "\n",
      "0: 384x640 1 person, 34.0ms\n",
      "Speed: 2.0ms preprocess, 34.0ms inference, 4.0ms postprocess per image at shape (1, 3, 384, 640)\n"
     ]
    },
    {
     "name": "stdout",
     "output_type": "stream",
     "text": [
      "Erreur fichier: D:\\INSA/5IF\\MediaEval_ClassificationTask\\data\\classificationTask\\train\\Offensive Backhand Hit\\898274688.mp4\n",
      "D:\\INSA/5IF\\MediaEval_ClassificationTask\\data\\classificationTask\\train\\Offensive Backhand Hit\\917784871.mp4\n",
      "Erreur fichier: D:\\INSA/5IF\\MediaEval_ClassificationTask\\data\\classificationTask\\train\\Offensive Backhand Hit\\917784871.mp4\n",
      "D:\\INSA/5IF\\MediaEval_ClassificationTask\\data\\classificationTask\\train\\Offensive Backhand Hit\\951695566.mp4\n",
      "Erreur fichier: D:\\INSA/5IF\\MediaEval_ClassificationTask\\data\\classificationTask\\train\\Offensive Backhand Hit\\951695566.mp4\n",
      "D:\\INSA/5IF\\MediaEval_ClassificationTask\\data\\classificationTask\\train\\Offensive Backhand Loop\\10103542551.mp4\n"
     ]
    },
    {
     "name": "stderr",
     "output_type": "stream",
     "text": [
      "\n",
      "0: 384x640 1 person, 32.0ms\n",
      "Speed: 2.0ms preprocess, 32.0ms inference, 7.1ms postprocess per image at shape (1, 3, 384, 640)\n",
      "\n",
      "0: 384x640 2 persons, 32.0ms\n",
      "Speed: 2.0ms preprocess, 32.0ms inference, 4.0ms postprocess per image at shape (1, 3, 384, 640)\n",
      "\n",
      "0: 384x640 1 person, 31.6ms\n",
      "Speed: 2.0ms preprocess, 31.6ms inference, 3.0ms postprocess per image at shape (1, 3, 384, 640)\n"
     ]
    },
    {
     "name": "stdout",
     "output_type": "stream",
     "text": [
      "Erreur fichier: D:\\INSA/5IF\\MediaEval_ClassificationTask\\data\\classificationTask\\train\\Offensive Backhand Loop\\10103542551.mp4\n",
      "D:\\INSA/5IF\\MediaEval_ClassificationTask\\data\\classificationTask\\train\\Offensive Backhand Loop\\10178694110.mp4\n",
      "Erreur fichier: D:\\INSA/5IF\\MediaEval_ClassificationTask\\data\\classificationTask\\train\\Offensive Backhand Loop\\10178694110.mp4\n",
      "D:\\INSA/5IF\\MediaEval_ClassificationTask\\data\\classificationTask\\train\\Offensive Backhand Loop\\10410151336.mp4\n",
      "Erreur fichier: D:\\INSA/5IF\\MediaEval_ClassificationTask\\data\\classificationTask\\train\\Offensive Backhand Loop\\10410151336.mp4\n",
      "D:\\INSA/5IF\\MediaEval_ClassificationTask\\data\\classificationTask\\train\\Offensive Backhand Loop\\10643474105.mp4\n"
     ]
    },
    {
     "name": "stderr",
     "output_type": "stream",
     "text": [
      "\n",
      "0: 384x640 1 person, 32.3ms\n",
      "Speed: 2.0ms preprocess, 32.3ms inference, 6.0ms postprocess per image at shape (1, 3, 384, 640)\n",
      "\n",
      "0: 384x640 1 person, 32.0ms\n",
      "Speed: 3.0ms preprocess, 32.0ms inference, 3.6ms postprocess per image at shape (1, 3, 384, 640)\n",
      "\n",
      "0: 384x640 2 persons, 32.0ms\n",
      "Speed: 3.0ms preprocess, 32.0ms inference, 5.0ms postprocess per image at shape (1, 3, 384, 640)\n"
     ]
    },
    {
     "name": "stdout",
     "output_type": "stream",
     "text": [
      "Erreur fichier: D:\\INSA/5IF\\MediaEval_ClassificationTask\\data\\classificationTask\\train\\Offensive Backhand Loop\\10643474105.mp4\n",
      "D:\\INSA/5IF\\MediaEval_ClassificationTask\\data\\classificationTask\\train\\Offensive Backhand Loop\\1084332214.mp4\n",
      "Erreur fichier: D:\\INSA/5IF\\MediaEval_ClassificationTask\\data\\classificationTask\\train\\Offensive Backhand Loop\\1084332214.mp4\n",
      "D:\\INSA/5IF\\MediaEval_ClassificationTask\\data\\classificationTask\\train\\Offensive Backhand Loop\\3397610184.mp4\n",
      "Erreur fichier: D:\\INSA/5IF\\MediaEval_ClassificationTask\\data\\classificationTask\\train\\Offensive Backhand Loop\\3397610184.mp4\n",
      "D:\\INSA/5IF\\MediaEval_ClassificationTask\\data\\classificationTask\\train\\Offensive Backhand Loop\\391865277.mp4\n"
     ]
    },
    {
     "name": "stderr",
     "output_type": "stream",
     "text": [
      "\n",
      "0: 384x640 1 person, 31.0ms\n",
      "Speed: 2.0ms preprocess, 31.0ms inference, 6.0ms postprocess per image at shape (1, 3, 384, 640)\n",
      "\n",
      "0: 384x640 1 person, 31.0ms\n",
      "Speed: 2.0ms preprocess, 31.0ms inference, 4.0ms postprocess per image at shape (1, 3, 384, 640)\n",
      "\n",
      "0: 384x640 1 person, 30.0ms\n"
     ]
    },
    {
     "name": "stdout",
     "output_type": "stream",
     "text": [
      "Erreur fichier: D:\\INSA/5IF\\MediaEval_ClassificationTask\\data\\classificationTask\\train\\Offensive Backhand Loop\\391865277.mp4\n",
      "D:\\INSA/5IF\\MediaEval_ClassificationTask\\data\\classificationTask\\train\\Offensive Backhand Loop\\4376362510.mp4\n",
      "Erreur fichier: D:\\INSA/5IF\\MediaEval_ClassificationTask\\data\\classificationTask\\train\\Offensive Backhand Loop\\4376362510.mp4\n",
      "D:\\INSA/5IF\\MediaEval_ClassificationTask\\data\\classificationTask\\train\\Offensive Backhand Loop\\472343132.mp4\n"
     ]
    },
    {
     "name": "stderr",
     "output_type": "stream",
     "text": [
      "Speed: 2.0ms preprocess, 30.0ms inference, 4.0ms postprocess per image at shape (1, 3, 384, 640)\n",
      "\n",
      "0: 384x640 1 person, 31.0ms\n",
      "Speed: 2.0ms preprocess, 31.0ms inference, 4.0ms postprocess per image at shape (1, 3, 384, 640)\n",
      "\n",
      "0: 384x640 1 person, 31.0ms\n",
      "Speed: 3.0ms preprocess, 31.0ms inference, 3.0ms postprocess per image at shape (1, 3, 384, 640)\n"
     ]
    },
    {
     "name": "stdout",
     "output_type": "stream",
     "text": [
      "Erreur fichier: D:\\INSA/5IF\\MediaEval_ClassificationTask\\data\\classificationTask\\train\\Offensive Backhand Loop\\472343132.mp4\n",
      "D:\\INSA/5IF\\MediaEval_ClassificationTask\\data\\classificationTask\\train\\Offensive Backhand Loop\\48261102910.mp4\n",
      "Erreur fichier: D:\\INSA/5IF\\MediaEval_ClassificationTask\\data\\classificationTask\\train\\Offensive Backhand Loop\\48261102910.mp4\n",
      "D:\\INSA/5IF\\MediaEval_ClassificationTask\\data\\classificationTask\\train\\Offensive Backhand Loop\\513547861.mp4\n",
      "Erreur fichier: D:\\INSA/5IF\\MediaEval_ClassificationTask\\data\\classificationTask\\train\\Offensive Backhand Loop\\513547861.mp4\n"
     ]
    },
    {
     "name": "stderr",
     "output_type": "stream",
     "text": [
      "\n",
      "0: 384x640 1 person, 31.5ms\n",
      "Speed: 2.0ms preprocess, 31.5ms inference, 4.0ms postprocess per image at shape (1, 3, 384, 640)\n",
      "\n",
      "0: 384x640 2 persons, 30.6ms\n",
      "Speed: 3.0ms preprocess, 30.6ms inference, 6.0ms postprocess per image at shape (1, 3, 384, 640)\n"
     ]
    },
    {
     "name": "stdout",
     "output_type": "stream",
     "text": [
      "D:\\INSA/5IF\\MediaEval_ClassificationTask\\data\\classificationTask\\train\\Offensive Backhand Loop\\5239461023.mp4\n",
      "Erreur fichier: D:\\INSA/5IF\\MediaEval_ClassificationTask\\data\\classificationTask\\train\\Offensive Backhand Loop\\5239461023.mp4\n",
      "D:\\INSA/5IF\\MediaEval_ClassificationTask\\data\\classificationTask\\train\\Offensive Backhand Loop\\5254106477.mp4\n",
      "Erreur fichier: D:\\INSA/5IF\\MediaEval_ClassificationTask\\data\\classificationTask\\train\\Offensive Backhand Loop\\5254106477.mp4\n",
      "D:\\INSA/5IF\\MediaEval_ClassificationTask\\data\\classificationTask\\train\\Offensive Backhand Loop\\5431056918.mp4\n"
     ]
    },
    {
     "name": "stderr",
     "output_type": "stream",
     "text": [
      "\n",
      "0: 384x640 1 person, 30.6ms\n",
      "Speed: 3.0ms preprocess, 30.6ms inference, 3.0ms postprocess per image at shape (1, 3, 384, 640)\n",
      "\n",
      "0: 384x640 1 person, 30.5ms\n",
      "Speed: 2.0ms preprocess, 30.5ms inference, 3.0ms postprocess per image at shape (1, 3, 384, 640)\n",
      "\n",
      "0: 384x640 1 person, 31.0ms\n",
      "Speed: 2.0ms preprocess, 31.0ms inference, 4.0ms postprocess per image at shape (1, 3, 384, 640)\n"
     ]
    },
    {
     "name": "stdout",
     "output_type": "stream",
     "text": [
      "Erreur fichier: D:\\INSA/5IF\\MediaEval_ClassificationTask\\data\\classificationTask\\train\\Offensive Backhand Loop\\5431056918.mp4\n",
      "D:\\INSA/5IF\\MediaEval_ClassificationTask\\data\\classificationTask\\train\\Offensive Backhand Loop\\6923275310.mp4\n",
      "Erreur fichier: D:\\INSA/5IF\\MediaEval_ClassificationTask\\data\\classificationTask\\train\\Offensive Backhand Loop\\6923275310.mp4\n",
      "D:\\INSA/5IF\\MediaEval_ClassificationTask\\data\\classificationTask\\train\\Offensive Backhand Loop\\810102103313.mp4\n",
      "Erreur fichier: D:\\INSA/5IF\\MediaEval_ClassificationTask\\data\\classificationTask\\train\\Offensive Backhand Loop\\810102103313.mp4\n",
      "D:\\INSA/5IF\\MediaEval_ClassificationTask\\data\\classificationTask\\train\\Offensive Backhand Loop\\8107335199.mp4\n"
     ]
    },
    {
     "name": "stderr",
     "output_type": "stream",
     "text": [
      "\n",
      "0: 384x640 1 person, 31.0ms\n",
      "Speed: 2.0ms preprocess, 31.0ms inference, 3.0ms postprocess per image at shape (1, 3, 384, 640)\n",
      "\n",
      "0: 384x640 1 person, 31.0ms\n",
      "Speed: 2.0ms preprocess, 31.0ms inference, 3.0ms postprocess per image at shape (1, 3, 384, 640)\n",
      "\n",
      "0: 384x640 1 person, 31.0ms\n",
      "Speed: 2.0ms preprocess, 31.0ms inference, 3.0ms postprocess per image at shape (1, 3, 384, 640)\n",
      "\n"
     ]
    },
    {
     "name": "stdout",
     "output_type": "stream",
     "text": [
      "Erreur fichier: D:\\INSA/5IF\\MediaEval_ClassificationTask\\data\\classificationTask\\train\\Offensive Backhand Loop\\8107335199.mp4\n",
      "D:\\INSA/5IF\\MediaEval_ClassificationTask\\data\\classificationTask\\train\\Offensive Backhand Loop\\8142994510.mp4\n",
      "Erreur fichier: D:\\INSA/5IF\\MediaEval_ClassificationTask\\data\\classificationTask\\train\\Offensive Backhand Loop\\8142994510.mp4\n",
      "D:\\INSA/5IF\\MediaEval_ClassificationTask\\data\\classificationTask\\train\\Offensive Backhand Loop\\826249238.mp4\n",
      "Erreur fichier: D:\\INSA/5IF\\MediaEval_ClassificationTask\\data\\classificationTask\\train\\Offensive Backhand Loop\\826249238.mp4\n",
      "D:\\INSA/5IF\\MediaEval_ClassificationTask\\data\\classificationTask\\train\\Offensive Backhand Loop\\831041091049.mp4\n"
     ]
    },
    {
     "name": "stderr",
     "output_type": "stream",
     "text": [
      "0: 384x640 1 person, 31.5ms\n",
      "Speed: 2.0ms preprocess, 31.5ms inference, 4.0ms postprocess per image at shape (1, 3, 384, 640)\n",
      "\n",
      "0: 384x640 1 person, 31.5ms\n",
      "Speed: 2.0ms preprocess, 31.5ms inference, 4.0ms postprocess per image at shape (1, 3, 384, 640)\n",
      "\n",
      "0: 384x640 1 person, 31.5ms\n",
      "Speed: 3.0ms preprocess, 31.5ms inference, 4.0ms postprocess per image at shape (1, 3, 384, 640)\n"
     ]
    },
    {
     "name": "stdout",
     "output_type": "stream",
     "text": [
      "Erreur fichier: D:\\INSA/5IF\\MediaEval_ClassificationTask\\data\\classificationTask\\train\\Offensive Backhand Loop\\831041091049.mp4\n",
      "D:\\INSA/5IF\\MediaEval_ClassificationTask\\data\\classificationTask\\train\\Offensive Backhand Loop\\9228889710.mp4\n",
      "Erreur fichier: D:\\INSA/5IF\\MediaEval_ClassificationTask\\data\\classificationTask\\train\\Offensive Backhand Loop\\9228889710.mp4\n",
      "D:\\INSA/5IF\\MediaEval_ClassificationTask\\data\\classificationTask\\train\\Offensive Forehand Flip\\1107694376.mp4\n",
      "Erreur fichier: D:\\INSA/5IF\\MediaEval_ClassificationTask\\data\\classificationTask\\train\\Offensive Forehand Flip\\1107694376.mp4\n",
      "D:\\INSA/5IF\\MediaEval_ClassificationTask\\data\\classificationTask\\train\\Offensive Forehand Flip\\1111578107.mp4\n"
     ]
    },
    {
     "name": "stderr",
     "output_type": "stream",
     "text": [
      "\n",
      "0: 384x640 1 person, 31.5ms\n",
      "Speed: 2.0ms preprocess, 31.5ms inference, 4.0ms postprocess per image at shape (1, 3, 384, 640)\n",
      "\n",
      "0: 384x640 1 person, 31.4ms\n",
      "Speed: 2.0ms preprocess, 31.4ms inference, 4.0ms postprocess per image at shape (1, 3, 384, 640)\n",
      "\n",
      "0: 384x640 2 persons, 31.0ms\n",
      "Speed: 2.0ms preprocess, 31.0ms inference, 3.0ms postprocess per image at shape (1, 3, 384, 640)\n"
     ]
    },
    {
     "name": "stdout",
     "output_type": "stream",
     "text": [
      "Erreur fichier: D:\\INSA/5IF\\MediaEval_ClassificationTask\\data\\classificationTask\\train\\Offensive Forehand Flip\\1111578107.mp4\n",
      "D:\\INSA/5IF\\MediaEval_ClassificationTask\\data\\classificationTask\\train\\Offensive Forehand Flip\\1355967109.mp4\n",
      "Erreur fichier: D:\\INSA/5IF\\MediaEval_ClassificationTask\\data\\classificationTask\\train\\Offensive Forehand Flip\\1355967109.mp4\n",
      "D:\\INSA/5IF\\MediaEval_ClassificationTask\\data\\classificationTask\\train\\Offensive Forehand Flip\\145913359.mp4\n",
      "Erreur fichier: D:\\INSA/5IF\\MediaEval_ClassificationTask\\data\\classificationTask\\train\\Offensive Forehand Flip\\145913359.mp4\n",
      "D:\\INSA/5IF\\MediaEval_ClassificationTask\\data\\classificationTask\\train\\Offensive Forehand Flip\\1786191057.mp4\n"
     ]
    },
    {
     "name": "stderr",
     "output_type": "stream",
     "text": [
      "\n",
      "0: 384x640 1 person, 31.0ms\n",
      "Speed: 3.0ms preprocess, 31.0ms inference, 4.0ms postprocess per image at shape (1, 3, 384, 640)\n",
      "\n",
      "0: 384x640 1 person, 30.0ms\n",
      "Speed: 2.0ms preprocess, 30.0ms inference, 4.0ms postprocess per image at shape (1, 3, 384, 640)\n",
      "\n",
      "0: 384x640 1 person, 31.0ms\n",
      "Speed: 2.0ms preprocess, 31.0ms inference, 4.0ms postprocess per image at shape (1, 3, 384, 640)\n"
     ]
    },
    {
     "name": "stdout",
     "output_type": "stream",
     "text": [
      "Erreur fichier: D:\\INSA/5IF\\MediaEval_ClassificationTask\\data\\classificationTask\\train\\Offensive Forehand Flip\\1786191057.mp4\n",
      "D:\\INSA/5IF\\MediaEval_ClassificationTask\\data\\classificationTask\\train\\Offensive Forehand Flip\\292525583.mp4\n",
      "Erreur fichier: D:\\INSA/5IF\\MediaEval_ClassificationTask\\data\\classificationTask\\train\\Offensive Forehand Flip\\292525583.mp4\n",
      "D:\\INSA/5IF\\MediaEval_ClassificationTask\\data\\classificationTask\\train\\Offensive Forehand Flip\\297319164.mp4\n"
     ]
    },
    {
     "name": "stderr",
     "output_type": "stream",
     "text": [
      "\n",
      "0: 384x640 2 persons, 31.0ms\n",
      "Speed: 3.0ms preprocess, 31.0ms inference, 3.0ms postprocess per image at shape (1, 3, 384, 640)\n",
      "\n",
      "0: 384x640 1 person, 31.6ms\n",
      "Speed: 2.0ms preprocess, 31.6ms inference, 3.0ms postprocess per image at shape (1, 3, 384, 640)\n"
     ]
    },
    {
     "name": "stdout",
     "output_type": "stream",
     "text": [
      "Erreur fichier: D:\\INSA/5IF\\MediaEval_ClassificationTask\\data\\classificationTask\\train\\Offensive Forehand Flip\\297319164.mp4\n",
      "D:\\INSA/5IF\\MediaEval_ClassificationTask\\data\\classificationTask\\train\\Offensive Forehand Flip\\3388810946.mp4\n",
      "Erreur fichier: D:\\INSA/5IF\\MediaEval_ClassificationTask\\data\\classificationTask\\train\\Offensive Forehand Flip\\3388810946.mp4\n",
      "D:\\INSA/5IF\\MediaEval_ClassificationTask\\data\\classificationTask\\train\\Offensive Forehand Flip\\4227635310.mp4\n",
      "Erreur fichier: D:\\INSA/5IF\\MediaEval_ClassificationTask\\data\\classificationTask\\train\\Offensive Forehand Flip\\4227635310.mp4\n",
      "D:\\INSA/5IF\\MediaEval_ClassificationTask\\data\\classificationTask\\train\\Offensive Forehand Flip\\454458622.mp4\n"
     ]
    },
    {
     "name": "stderr",
     "output_type": "stream",
     "text": [
      "\n",
      "0: 384x640 1 person, 30.6ms\n",
      "Speed: 2.0ms preprocess, 30.6ms inference, 4.0ms postprocess per image at shape (1, 3, 384, 640)\n",
      "\n",
      "0: 384x640 1 person, 31.0ms\n",
      "Speed: 2.0ms preprocess, 31.0ms inference, 3.0ms postprocess per image at shape (1, 3, 384, 640)\n",
      "\n",
      "0: 384x640 2 persons, 30.0ms\n",
      "Speed: 2.0ms preprocess, 30.0ms inference, 4.0ms postprocess per image at shape (1, 3, 384, 640)\n"
     ]
    },
    {
     "name": "stdout",
     "output_type": "stream",
     "text": [
      "Erreur fichier: D:\\INSA/5IF\\MediaEval_ClassificationTask\\data\\classificationTask\\train\\Offensive Forehand Flip\\454458622.mp4\n",
      "D:\\INSA/5IF\\MediaEval_ClassificationTask\\data\\classificationTask\\train\\Offensive Forehand Flip\\469844346.mp4\n",
      "Erreur fichier: D:\\INSA/5IF\\MediaEval_ClassificationTask\\data\\classificationTask\\train\\Offensive Forehand Flip\\469844346.mp4\n",
      "D:\\INSA/5IF\\MediaEval_ClassificationTask\\data\\classificationTask\\train\\Offensive Forehand Flip\\48102147810.mp4\n",
      "Erreur fichier: D:\\INSA/5IF\\MediaEval_ClassificationTask\\data\\classificationTask\\train\\Offensive Forehand Flip\\48102147810.mp4\n",
      "D:\\INSA/5IF\\MediaEval_ClassificationTask\\data\\classificationTask\\train\\Offensive Forehand Flip\\4911105431.mp4\n"
     ]
    },
    {
     "name": "stderr",
     "output_type": "stream",
     "text": [
      "\n",
      "0: 384x640 1 person, 31.0ms\n",
      "Speed: 2.0ms preprocess, 31.0ms inference, 4.0ms postprocess per image at shape (1, 3, 384, 640)\n",
      "\n",
      "0: 384x640 1 person, 31.0ms\n",
      "Speed: 3.0ms preprocess, 31.0ms inference, 3.0ms postprocess per image at shape (1, 3, 384, 640)\n",
      "\n",
      "0: 384x640 1 person, 31.5ms\n",
      "Speed: 2.0ms preprocess, 31.5ms inference, 3.0ms postprocess per image at shape (1, 3, 384, 640)\n"
     ]
    },
    {
     "name": "stdout",
     "output_type": "stream",
     "text": [
      "Erreur fichier: D:\\INSA/5IF\\MediaEval_ClassificationTask\\data\\classificationTask\\train\\Offensive Forehand Flip\\4911105431.mp4\n",
      "D:\\INSA/5IF\\MediaEval_ClassificationTask\\data\\classificationTask\\train\\Offensive Forehand Flip\\5468111108.mp4\n",
      "Erreur fichier: D:\\INSA/5IF\\MediaEval_ClassificationTask\\data\\classificationTask\\train\\Offensive Forehand Flip\\5468111108.mp4\n",
      "D:\\INSA/5IF\\MediaEval_ClassificationTask\\data\\classificationTask\\train\\Offensive Forehand Flip\\54891069210.mp4\n",
      "Erreur fichier: D:\\INSA/5IF\\MediaEval_ClassificationTask\\data\\classificationTask\\train\\Offensive Forehand Flip\\54891069210.mp4\n",
      "D:\\INSA/5IF\\MediaEval_ClassificationTask\\data\\classificationTask\\train\\Offensive Forehand Flip\\562723914.mp4\n"
     ]
    },
    {
     "name": "stderr",
     "output_type": "stream",
     "text": [
      "\n",
      "0: 384x640 1 person, 31.1ms\n",
      "Speed: 2.0ms preprocess, 31.1ms inference, 3.0ms postprocess per image at shape (1, 3, 384, 640)\n",
      "\n",
      "0: 384x640 1 person, 30.0ms\n",
      "Speed: 3.0ms preprocess, 30.0ms inference, 4.0ms postprocess per image at shape (1, 3, 384, 640)\n",
      "\n",
      "0: 384x640 1 person, 30.0ms\n",
      "Speed: 2.0ms preprocess, 30.0ms inference, 5.0ms postprocess per image at shape (1, 3, 384, 640)\n"
     ]
    },
    {
     "name": "stdout",
     "output_type": "stream",
     "text": [
      "Erreur fichier: D:\\INSA/5IF\\MediaEval_ClassificationTask\\data\\classificationTask\\train\\Offensive Forehand Flip\\562723914.mp4\n",
      "D:\\INSA/5IF\\MediaEval_ClassificationTask\\data\\classificationTask\\train\\Offensive Forehand Flip\\611131249.mp4\n",
      "Erreur fichier: D:\\INSA/5IF\\MediaEval_ClassificationTask\\data\\classificationTask\\train\\Offensive Forehand Flip\\611131249.mp4\n",
      "D:\\INSA/5IF\\MediaEval_ClassificationTask\\data\\classificationTask\\train\\Offensive Forehand Flip\\6157610227.mp4\n",
      "Erreur fichier: D:\\INSA/5IF\\MediaEval_ClassificationTask\\data\\classificationTask\\train\\Offensive Forehand Flip\\6157610227.mp4\n",
      "D:\\INSA/5IF\\MediaEval_ClassificationTask\\data\\classificationTask\\train\\Offensive Forehand Flip\\6359311035.mp4\n"
     ]
    },
    {
     "name": "stderr",
     "output_type": "stream",
     "text": [
      "\n",
      "0: 384x640 1 person, 31.0ms\n",
      "Speed: 3.0ms preprocess, 31.0ms inference, 4.0ms postprocess per image at shape (1, 3, 384, 640)\n",
      "\n",
      "0: 384x640 2 persons, 31.0ms\n",
      "Speed: 2.0ms preprocess, 31.0ms inference, 3.0ms postprocess per image at shape (1, 3, 384, 640)\n",
      "\n",
      "0: 384x640 2 persons, 31.0ms\n",
      "Speed: 2.0ms preprocess, 31.0ms inference, 3.0ms postprocess per image at shape (1, 3, 384, 640)\n"
     ]
    },
    {
     "name": "stdout",
     "output_type": "stream",
     "text": [
      "Erreur fichier: D:\\INSA/5IF\\MediaEval_ClassificationTask\\data\\classificationTask\\train\\Offensive Forehand Flip\\6359311035.mp4\n",
      "D:\\INSA/5IF\\MediaEval_ClassificationTask\\data\\classificationTask\\train\\Offensive Forehand Flip\\692837273.mp4\n",
      "Erreur fichier: D:\\INSA/5IF\\MediaEval_ClassificationTask\\data\\classificationTask\\train\\Offensive Forehand Flip\\692837273.mp4\n",
      "D:\\INSA/5IF\\MediaEval_ClassificationTask\\data\\classificationTask\\train\\Offensive Forehand Flip\\6988975101.mp4\n",
      "Erreur fichier: D:\\INSA/5IF\\MediaEval_ClassificationTask\\data\\classificationTask\\train\\Offensive Forehand Flip\\6988975101.mp4\n",
      "D:\\INSA/5IF\\MediaEval_ClassificationTask\\data\\classificationTask\\train\\Offensive Forehand Flip\\75103486510.mp4\n"
     ]
    },
    {
     "name": "stderr",
     "output_type": "stream",
     "text": [
      "\n",
      "0: 384x640 1 person, 30.5ms\n",
      "Speed: 3.0ms preprocess, 30.5ms inference, 4.0ms postprocess per image at shape (1, 3, 384, 640)\n",
      "\n",
      "0: 384x640 1 person, 30.5ms\n",
      "Speed: 2.0ms preprocess, 30.5ms inference, 6.0ms postprocess per image at shape (1, 3, 384, 640)\n",
      "\n",
      "0: 384x640 1 person, 30.6ms\n",
      "Speed: 2.0ms preprocess, 30.6ms inference, 4.0ms postprocess per image at shape (1, 3, 384, 640)\n"
     ]
    },
    {
     "name": "stdout",
     "output_type": "stream",
     "text": [
      "Erreur fichier: D:\\INSA/5IF\\MediaEval_ClassificationTask\\data\\classificationTask\\train\\Offensive Forehand Flip\\75103486510.mp4\n",
      "D:\\INSA/5IF\\MediaEval_ClassificationTask\\data\\classificationTask\\train\\Offensive Forehand Flip\\817823749.mp4\n",
      "Erreur fichier: D:\\INSA/5IF\\MediaEval_ClassificationTask\\data\\classificationTask\\train\\Offensive Forehand Flip\\817823749.mp4\n",
      "D:\\INSA/5IF\\MediaEval_ClassificationTask\\data\\classificationTask\\train\\Offensive Forehand Flip\\831155236.mp4\n",
      "Erreur fichier: D:\\INSA/5IF\\MediaEval_ClassificationTask\\data\\classificationTask\\train\\Offensive Forehand Flip\\831155236.mp4\n"
     ]
    },
    {
     "name": "stderr",
     "output_type": "stream",
     "text": [
      "\n",
      "0: 384x640 1 person, 30.0ms\n",
      "Speed: 2.0ms preprocess, 30.0ms inference, 3.0ms postprocess per image at shape (1, 3, 384, 640)\n",
      "\n",
      "0: 384x640 1 person, 32.0ms\n",
      "Speed: 2.0ms preprocess, 32.0ms inference, 3.0ms postprocess per image at shape (1, 3, 384, 640)\n"
     ]
    },
    {
     "name": "stdout",
     "output_type": "stream",
     "text": [
      "D:\\INSA/5IF\\MediaEval_ClassificationTask\\data\\classificationTask\\train\\Offensive Forehand Flip\\838782121.mp4\n",
      "Erreur fichier: D:\\INSA/5IF\\MediaEval_ClassificationTask\\data\\classificationTask\\train\\Offensive Forehand Flip\\838782121.mp4\n",
      "D:\\INSA/5IF\\MediaEval_ClassificationTask\\data\\classificationTask\\train\\Offensive Forehand Flip\\893329121.mp4\n",
      "Erreur fichier: D:\\INSA/5IF\\MediaEval_ClassificationTask\\data\\classificationTask\\train\\Offensive Forehand Flip\\893329121.mp4\n",
      "D:\\INSA/5IF\\MediaEval_ClassificationTask\\data\\classificationTask\\train\\Offensive Forehand Flip\\91078531064.mp4\n"
     ]
    },
    {
     "name": "stderr",
     "output_type": "stream",
     "text": [
      "\n",
      "0: 384x640 1 person, 30.6ms\n",
      "Speed: 2.0ms preprocess, 30.6ms inference, 4.0ms postprocess per image at shape (1, 3, 384, 640)\n",
      "\n",
      "0: 384x640 1 person, 31.0ms\n",
      "Speed: 2.0ms preprocess, 31.0ms inference, 4.0ms postprocess per image at shape (1, 3, 384, 640)\n",
      "\n",
      "0: 384x640 1 person, 30.0ms\n",
      "Speed: 2.5ms preprocess, 30.0ms inference, 3.0ms postprocess per image at shape (1, 3, 384, 640)\n"
     ]
    },
    {
     "name": "stdout",
     "output_type": "stream",
     "text": [
      "Erreur fichier: D:\\INSA/5IF\\MediaEval_ClassificationTask\\data\\classificationTask\\train\\Offensive Forehand Flip\\91078531064.mp4\n",
      "D:\\INSA/5IF\\MediaEval_ClassificationTask\\data\\classificationTask\\train\\Offensive Forehand Flip\\91762103510.mp4\n",
      "Erreur fichier: D:\\INSA/5IF\\MediaEval_ClassificationTask\\data\\classificationTask\\train\\Offensive Forehand Flip\\91762103510.mp4\n",
      "D:\\INSA/5IF\\MediaEval_ClassificationTask\\data\\classificationTask\\train\\Offensive Forehand Flip\\942769684.mp4\n",
      "Erreur fichier: D:\\INSA/5IF\\MediaEval_ClassificationTask\\data\\classificationTask\\train\\Offensive Forehand Flip\\942769684.mp4\n"
     ]
    },
    {
     "ename": "KeyboardInterrupt",
     "evalue": "",
     "output_type": "error",
     "traceback": [
      "\u001b[1;31m---------------------------------------------------------------------------\u001b[0m",
      "\u001b[1;31mFileNotFoundError\u001b[0m                         Traceback (most recent call last)",
      "File \u001b[1;32mc:\\Users\\Nathan\\AppData\\Local\\Programs\\Python\\Python39\\lib\\genericpath.py:19\u001b[0m, in \u001b[0;36mexists\u001b[1;34m(path)\u001b[0m\n\u001b[0;32m     18\u001b[0m \u001b[39mtry\u001b[39;00m:\n\u001b[1;32m---> 19\u001b[0m     os\u001b[39m.\u001b[39;49mstat(path)\n\u001b[0;32m     20\u001b[0m \u001b[39mexcept\u001b[39;00m (\u001b[39mOSError\u001b[39;00m, \u001b[39mValueError\u001b[39;00m):\n",
      "\u001b[1;31mFileNotFoundError\u001b[0m: [WinError 2] Le fichier spécifié est introuvable: 'D:\\\\INSA/5IF\\\\MediaEval_ClassificationTask\\\\dataSetCSV\\\\train\\\\Offensive Forehand Flip\\\\966852359.csv'",
      "\nDuring handling of the above exception, another exception occurred:\n",
      "\u001b[1;31mKeyboardInterrupt\u001b[0m                         Traceback (most recent call last)",
      "\u001b[1;32md:\\INSA\\5IF\\MediaEval_ClassificationTask\\Tests.ipynb Cell 24\u001b[0m line \u001b[0;36m1\n\u001b[1;32m----> <a href='vscode-notebook-cell:/d%3A/INSA/5IF/MediaEval_ClassificationTask/Tests.ipynb#X33sZmlsZQ%3D%3D?line=0'>1</a>\u001b[0m analyseDataset(\u001b[39m\"\u001b[39;49m\u001b[39mD:\u001b[39;49m\u001b[39m\\\u001b[39;49m\u001b[39mINSA/5IF\u001b[39;49m\u001b[39m\\\u001b[39;49m\u001b[39mMediaEval_ClassificationTask\u001b[39;49m\u001b[39m\\\u001b[39;49m\u001b[39mdata\u001b[39;49m\u001b[39m\\\u001b[39;49m\u001b[39mclassificationTask\u001b[39;49m\u001b[39m\"\u001b[39;49m, \u001b[39m\"\u001b[39;49m\u001b[39mD:\u001b[39;49m\u001b[39m\\\u001b[39;49m\u001b[39mINSA/5IF\u001b[39;49m\u001b[39m\\\u001b[39;49m\u001b[39mMediaEval_ClassificationTask\u001b[39;49m\u001b[39m\\\u001b[39;49m\u001b[39mdataSetCSV\u001b[39;49m\u001b[39m\"\u001b[39;49m)\n",
      "\u001b[1;32md:\\INSA\\5IF\\MediaEval_ClassificationTask\\Tests.ipynb Cell 24\u001b[0m line \u001b[0;36m2\n\u001b[0;32m     <a href='vscode-notebook-cell:/d%3A/INSA/5IF/MediaEval_ClassificationTask/Tests.ipynb#X33sZmlsZQ%3D%3D?line=19'>20</a>\u001b[0m CSVFileName \u001b[39m=\u001b[39m file[:\u001b[39mlen\u001b[39m(file) \u001b[39m-\u001b[39m \u001b[39m4\u001b[39m]\n\u001b[0;32m     <a href='vscode-notebook-cell:/d%3A/INSA/5IF/MediaEval_ClassificationTask/Tests.ipynb#X33sZmlsZQ%3D%3D?line=20'>21</a>\u001b[0m pathToCSV \u001b[39m=\u001b[39m os\u001b[39m.\u001b[39mpath\u001b[39m.\u001b[39mjoin(pathToCSVSubFolder, CSVFileName\u001b[39m+\u001b[39m\u001b[39m\"\u001b[39m\u001b[39m.csv\u001b[39m\u001b[39m\"\u001b[39m)\n\u001b[1;32m---> <a href='vscode-notebook-cell:/d%3A/INSA/5IF/MediaEval_ClassificationTask/Tests.ipynb#X33sZmlsZQ%3D%3D?line=21'>22</a>\u001b[0m \u001b[39mif\u001b[39;00m \u001b[39mnot\u001b[39;00m os\u001b[39m.\u001b[39;49mpath\u001b[39m.\u001b[39;49mexists(pathToCSV):\n\u001b[0;32m     <a href='vscode-notebook-cell:/d%3A/INSA/5IF/MediaEval_ClassificationTask/Tests.ipynb#X33sZmlsZQ%3D%3D?line=22'>23</a>\u001b[0m     \u001b[39mprint\u001b[39m(pathToFile)\n\u001b[0;32m     <a href='vscode-notebook-cell:/d%3A/INSA/5IF/MediaEval_ClassificationTask/Tests.ipynb#X33sZmlsZQ%3D%3D?line=23'>24</a>\u001b[0m     \u001b[39mtry\u001b[39;00m:\n",
      "File \u001b[1;32mc:\\Users\\Nathan\\AppData\\Local\\Programs\\Python\\Python39\\lib\\genericpath.py:19\u001b[0m, in \u001b[0;36mexists\u001b[1;34m(path)\u001b[0m\n\u001b[0;32m     17\u001b[0m \u001b[39m\u001b[39m\u001b[39m\"\"\"Test whether a path exists.  Returns False for broken symbolic links\"\"\"\u001b[39;00m\n\u001b[0;32m     18\u001b[0m \u001b[39mtry\u001b[39;00m:\n\u001b[1;32m---> 19\u001b[0m     os\u001b[39m.\u001b[39;49mstat(path)\n\u001b[0;32m     20\u001b[0m \u001b[39mexcept\u001b[39;00m (\u001b[39mOSError\u001b[39;00m, \u001b[39mValueError\u001b[39;00m):\n\u001b[0;32m     21\u001b[0m     \u001b[39mreturn\u001b[39;00m \u001b[39mFalse\u001b[39;00m\n",
      "\u001b[1;31mKeyboardInterrupt\u001b[0m: "
     ]
    }
   ],
   "source": [
    "analyseDataset(\"D:\\INSA/5IF\\MediaEval_ClassificationTask\\data\\classificationTask\", \"D:\\INSA/5IF\\MediaEval_ClassificationTask\\dataSetCSV\")"
   ]
  },
  {
   "cell_type": "code",
   "execution_count": null,
   "metadata": {},
   "outputs": [],
   "source": [
    "for r in results:\n",
    "    print(r.keypoints)"
   ]
  },
  {
   "cell_type": "code",
   "execution_count": null,
   "metadata": {},
   "outputs": [],
   "source": [
    "model = ultralytics.YOLO(model='yolov8m-pose.pt')"
   ]
  },
  {
   "cell_type": "code",
   "execution_count": null,
   "metadata": {},
   "outputs": [],
   "source": [
    "result = model('D:\\INSA/5IF\\MediaEval_ClassificationTask/314984131.mp4', conf=0.3, save=True)\n"
   ]
  },
  {
   "cell_type": "code",
   "execution_count": null,
   "metadata": {},
   "outputs": [],
   "source": [
    "for r in result:\n",
    "    print(r.boxes.xyxy)"
   ]
  }
 ],
 "metadata": {
  "kernelspec": {
   "display_name": "Python 3",
   "language": "python",
   "name": "python3"
  },
  "language_info": {
   "codemirror_mode": {
    "name": "ipython",
    "version": 3
   },
   "file_extension": ".py",
   "mimetype": "text/x-python",
   "name": "python",
   "nbconvert_exporter": "python",
   "pygments_lexer": "ipython3",
   "version": "3.9.0"
  },
  "orig_nbformat": 4
 },
 "nbformat": 4,
 "nbformat_minor": 2
}
